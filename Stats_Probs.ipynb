{
  "nbformat": 4,
  "nbformat_minor": 0,
  "metadata": {
    "colab": {
      "provenance": [],
      "authorship_tag": "ABX9TyOrOftWtvuswYyd2C8JpsLJ",
      "include_colab_link": true
    },
    "kernelspec": {
      "name": "python3",
      "display_name": "Python 3"
    },
    "language_info": {
      "name": "python"
    }
  },
  "cells": [
    {
      "cell_type": "markdown",
      "metadata": {
        "id": "view-in-github",
        "colab_type": "text"
      },
      "source": [
        "<a href=\"https://colab.research.google.com/github/usshaa/MySource/blob/main/Stats_Probs.ipynb\" target=\"_parent\"><img src=\"https://colab.research.google.com/assets/colab-badge.svg\" alt=\"Open In Colab\"/></a>"
      ]
    },
    {
      "cell_type": "code",
      "execution_count": null,
      "metadata": {
        "colab": {
          "base_uri": "https://localhost:8080/"
        },
        "id": "BGOCvgXWBoIN",
        "outputId": "a131ed57-5f28-4e71-ab34-aff9eb871098"
      },
      "outputs": [
        {
          "output_type": "stream",
          "name": "stdout",
          "text": [
            "<class 'str'>\n",
            "<class 'str'>\n",
            "<class 'float'>\n",
            "<class 'complex'>\n",
            "Welcome to Data Science\n"
          ]
        }
      ],
      "source": [
        "\n",
        "cv = 'string'\n",
        "ba= 'CGUVi27'\n",
        "sa = 224.57\n",
        "a2 = 21021 - 3j\n",
        "print(type(cv))\n",
        "print(type(ba))\n",
        "print(type(sa))\n",
        "print(type(a2))\n",
        "print('Welcome to Data Science')\n"
      ]
    },
    {
      "cell_type": "code",
      "source": [
        "\n",
        "name = input(\"Enter name\")\n",
        "age= eval(input(\"Enter age\"))\n",
        "weight = eval(input(\"weight: \"))\n",
        "height = eval(input(\"height: \"))\n",
        "\n",
        "print(type(name))\n",
        "print(type(age))\n",
        "print(type(weight))\n",
        "print(type(height))\n",
        "\n"
      ],
      "metadata": {
        "colab": {
          "base_uri": "https://localhost:8080/"
        },
        "id": "MtJ8bXl_CmyR",
        "outputId": "febf733b-caae-4bda-a58a-4e220dffba67"
      },
      "execution_count": null,
      "outputs": [
        {
          "output_type": "stream",
          "name": "stdout",
          "text": [
            "Enter name xyz\n",
            "Enter age 12\n",
            "weight:  5\n",
            "height:  5\n",
            "<class 'str'>\n",
            "<class 'int'>\n",
            "<class 'int'>\n",
            "<class 'int'>\n"
          ]
        }
      ]
    },
    {
      "cell_type": "code",
      "source": [
        "a = float(input())\n",
        "b = float(input())\n",
        "\n",
        "add=a+b\n",
        "sub=a-b\n",
        "mul=a*b\n",
        "div=a/b\n",
        "mod=a%b\n",
        "fdiv=a//b\n",
        "e=a**b\n",
        "print(add)\n",
        "print(sub)\n",
        "print(mul)\n",
        "print(div)\n",
        "print(mod)\n",
        "print(fdiv)\n",
        "print(e)\n"
      ],
      "metadata": {
        "colab": {
          "base_uri": "https://localhost:8080/"
        },
        "id": "cCu2YWdRQ2AC",
        "outputId": "e779d98c-8ec0-411d-d9ca-0592e7abd725"
      },
      "execution_count": null,
      "outputs": [
        {
          "output_type": "stream",
          "name": "stdout",
          "text": [
            "10\n",
            "2\n",
            "12.0\n",
            "8.0\n",
            "20.0\n",
            "5.0\n",
            "0.0\n",
            "5.0\n",
            "100.0\n"
          ]
        }
      ]
    },
    {
      "cell_type": "code",
      "source": [
        "a = int(input())\n",
        "b = int(input())\n",
        "print(a>b,a<b,a==b,a!=b,a>=b,a<=b)"
      ],
      "metadata": {
        "colab": {
          "base_uri": "https://localhost:8080/"
        },
        "id": "EXbxp5bgSY9P",
        "outputId": "5e40cc36-3674-43b1-f7ae-6a4a8ff922be"
      },
      "execution_count": null,
      "outputs": [
        {
          "output_type": "stream",
          "name": "stdout",
          "text": [
            "10\n",
            "30\n",
            "False True False True False True\n"
          ]
        }
      ]
    }
  ]
}