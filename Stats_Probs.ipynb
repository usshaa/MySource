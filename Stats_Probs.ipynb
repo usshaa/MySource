{
  "nbformat": 4,
  "nbformat_minor": 0,
  "metadata": {
    "colab": {
      "provenance": [],
      "authorship_tag": "ABX9TyMZaCFQEPq+AicqfVXLZSzZ",
      "include_colab_link": true
    },
    "kernelspec": {
      "name": "python3",
      "display_name": "Python 3"
    },
    "language_info": {
      "name": "python"
    }
  },
  "cells": [
    {
      "cell_type": "markdown",
      "metadata": {
        "id": "view-in-github",
        "colab_type": "text"
      },
      "source": [
        "<a href=\"https://colab.research.google.com/github/usshaa/MySource/blob/main/Stats_Probs.ipynb\" target=\"_parent\"><img src=\"https://colab.research.google.com/assets/colab-badge.svg\" alt=\"Open In Colab\"/></a>"
      ]
    },
    {
      "cell_type": "markdown",
      "source": [
        "**I. Descriptive Statistics**\n",
        "\n",
        "1.1 Introduction to Descriptive Statistics\n",
        "   - Purpose of descriptive statistics\n",
        "   - Types of data: numerical and categorical\n",
        "   - Levels of measurement: nominal, ordinal, interval, ratio\n",
        "\n",
        "1.2 Measures of Central Tendency\n",
        "   - Mean, median, mode\n",
        "   - Properties of each measure\n",
        "   - Choosing the appropriate measure based on data type\n",
        "\n",
        "1.3 Measures of Dispersion\n",
        "   - Range, variance, standard deviation\n",
        "   - Interquartile range (IQR)\n",
        "   - Boxplots\n",
        "\n",
        "1.4 Measures of Shape\n",
        "   - Skewness\n",
        "   - Kurtosis\n",
        "\n",
        "1.5 Data Visualization\n",
        "   - Histograms\n",
        "   - Box plots\n",
        "   - Scatter plots\n",
        "   - Exploring relationships between variables\n",
        "\n",
        "\n",
        "**II. Probability**\n",
        "\n",
        "2.1 Introduction to Probability\n",
        "   - Basic concepts of probability\n",
        "   - Sample space, events\n",
        "   - Probability axioms\n",
        "   - Relative frequency and subjective probability\n",
        "\n",
        "2.2 Probability Distributions\n",
        "   - Discrete probability distributions (e.g., Bernoulli, binomial, Poisson)\n",
        "   - Continuous probability distributions (e.g., normal, exponential)\n",
        "\n",
        "2.3 Conditional Probability and Bayes' Theorem\n",
        "   - Conditional probability\n",
        "   - Independence\n",
        "   - Bayes' Theorem and its applications\n",
        "\n",
        "\n",
        "**III. Inferential Statistics**\n",
        "\n",
        "3.1 Introduction to Inferential Statistics\n",
        "    - Population vs. sample\n",
        "    - Sampling distributions\n",
        "    - Central Limit Theorem\n",
        "\n",
        "3.2 Hypothesis Testing\n",
        "   - Null and alternative hypotheses\n",
        "   - p-values and significance levels\n",
        "   - Type I and Type II errors\n",
        "   - One-sample and two-sample tests\n",
        "   - t-tests, z-tests, chi-squared tests\n",
        "\n",
        "3.3 Confidence Intervals\n",
        "   - Constructing confidence intervals\n",
        "   - Interpretation of confidence intervals\n",
        "\n",
        "\n",
        "**IV. Regression Analysis**\n",
        "\n",
        "4.1 Simple Linear Regression\n",
        "   - Model assumptions\n",
        "   - Estimating model parameters\n",
        "   - Goodness of fit (R-squared)\n",
        "   - Hypothesis testing for regression coefficients\n",
        "\n",
        "4.2 Multiple Linear Regression\n",
        "   - Model assumptions\n",
        "   - Multicollinearity\n",
        "   - Variable selection\n",
        "\n",
        "\n",
        "**V.  Other Important Topics**\n",
        "\n",
        "5.1  A/B Testing\n",
        "5.2  Time Series Analysis\n",
        "5.3  Bayesian Statistics"
      ],
      "metadata": {
        "id": "SO9NsQ9npiOF"
      }
    },
    {
      "cell_type": "markdown",
      "source": [
        "# **I. Descriptive Statistics**\n",
        "\n",
        "## 1.1 Introduction to Descriptive Statistics\n",
        "\n",
        "Descriptive statistics summarizes and describes the main features of a dataset.  It helps us understand the data's characteristics without making inferences about a larger population.\n",
        "\n",
        "**Purpose:** To organize, present, and describe data in a meaningful way.\n",
        "\n",
        "**Types of Data:**\n",
        "\n",
        "* **Numerical (Quantitative):**  Data that can be measured numerically.\n",
        "    * **Example:** Height, weight, age, income.\n",
        "* **Categorical (Qualitative):** Data that represents categories or groups.\n",
        "    * **Example:** Gender, eye color, country of origin.\n",
        "\n",
        "**Levels of Measurement:**\n",
        "\n",
        "* **Nominal:** Categories with no inherent order.  (e.g., Colors: Red, Blue, Green)\n",
        "* **Ordinal:** Categories with a meaningful order, but no consistent difference between them. (e.g., Education level: High school, Bachelor's, Master's)\n",
        "* **Interval:** Ordered categories with consistent differences between them, but no true zero point. (e.g., Temperature in Celsius or Fahrenheit)\n",
        "* **Ratio:** Ordered categories with consistent differences and a true zero point.  (e.g., Height, weight, age)\n",
        "\n",
        "\n",
        "## Example:\n",
        "\n",
        "Let's say we have data on the ages of students in a class:\n"
      ],
      "metadata": {
        "id": "Q0isnfOcqrle"
      }
    },
    {
      "cell_type": "code",
      "source": [
        "import pandas as pd\n",
        "import numpy as np\n",
        "import matplotlib.pyplot as plt\n",
        "\n",
        "# Sample student age data\n",
        "student_ages = [18, 19, 20, 18, 21, 19, 22, 18, 20, 19, 20, 21, 18, 23, 19]\n",
        "\n",
        "# Create a Pandas Series for easier calculations\n",
        "ages_series = pd.Series(student_ages)"
      ],
      "metadata": {
        "id": "S9G43X2Ot1Ls"
      },
      "execution_count": 91,
      "outputs": []
    },
    {
      "cell_type": "markdown",
      "source": [
        "# **I. Descriptive Statistics**\n",
        "\n",
        "## 1.2 Measures of Central Tendency\n",
        "\n",
        "Measures of central tendency describe the center or typical value of a dataset.  The most common measures are the mean, median, and mode.\n",
        "\n",
        "* **Mean:** The average of all values in a dataset.  Calculated by summing all values and dividing by the number of values.  Sensitive to outliers (extreme values).\n",
        "\n",
        "* **Median:** The middle value when the data is ordered.  Less sensitive to outliers than the mean.  For an even number of data points, the median is the average of the two middle values.\n",
        "\n",
        "* **Mode:** The value that appears most frequently in a dataset.  A dataset can have multiple modes (bimodal, multimodal) or no mode at all.\n",
        "\n",
        "**Choosing the appropriate measure:**\n",
        "\n",
        "* **Mean:** Suitable for symmetrical data without outliers.\n",
        "* **Median:** Preferred when the data is skewed or contains outliers.\n",
        "* **Mode:** Useful for categorical data or when identifying the most frequent value is important.\n",
        "\n",
        "\n",
        "**Example:**\n",
        "\n",
        "Consider the following dataset representing the daily sales of a small business over a week:\n"
      ],
      "metadata": {
        "id": "gjJVOXDrre4r"
      }
    },
    {
      "cell_type": "code",
      "source": [
        "import pandas as pd\n",
        "import numpy as np\n",
        "import matplotlib.pyplot as plt"
      ],
      "metadata": {
        "id": "lJi8EevmuTpE"
      },
      "execution_count": 92,
      "outputs": []
    },
    {
      "cell_type": "code",
      "source": [
        "# Sample student age data\n",
        "student_ages = [18, 19, 20, 18, 21, 19, 22, 18, 20, 19, 20, 21, 18, 23, 19]"
      ],
      "metadata": {
        "id": "xaH-RqmoyLKH"
      },
      "execution_count": 93,
      "outputs": []
    },
    {
      "cell_type": "code",
      "source": [
        "# Create a Pandas Series for easier calculations\n",
        "ages_series = pd.Series(student_ages)"
      ],
      "metadata": {
        "id": "RLXOuU3GyMWk"
      },
      "execution_count": 94,
      "outputs": []
    },
    {
      "cell_type": "code",
      "source": [
        "# Calculate measures of central tendency\n",
        "mean_age = ages_series.mean()\n",
        "median_age = ages_series.median()\n",
        "mode_age = ages_series.mode()\n",
        "\n",
        "print(f\"Mean age: {mean_age}\")\n",
        "print(f\"Median age: {median_age}\")\n",
        "print(f\"Mode age: {mode_age.iloc[0]}\")  # Access the first mode value\n",
        "\n"
      ],
      "metadata": {
        "colab": {
          "base_uri": "https://localhost:8080/"
        },
        "id": "Cvqj6leLyQJL",
        "outputId": "de64fce4-7fc7-4b6f-b0f9-4f506b09ef30"
      },
      "execution_count": 95,
      "outputs": [
        {
          "output_type": "stream",
          "name": "stdout",
          "text": [
            "Mean age: 19.666666666666668\n",
            "Median age: 19.0\n",
            "Mode age: 18\n"
          ]
        }
      ]
    },
    {
      "cell_type": "code",
      "source": [
        "# Example with daily sales\n",
        "daily_sales = [100, 120, 150, 110, 2000, 130, 140] # Added an outlier\n",
        "sales_series = pd.Series(daily_sales)\n",
        "\n",
        "mean_sales = sales_series.mean()\n",
        "median_sales = sales_series.median()\n",
        "mode_sales = sales_series.mode()\n",
        "\n",
        "print(f\"\\nMean daily sales: {mean_sales}\")\n",
        "print(f\"Median daily sales: {median_sales}\")\n",
        "print(f\"Mode daily sales: {mode_sales.iloc[0] if not mode_sales.empty else 'No mode'}\")"
      ],
      "metadata": {
        "colab": {
          "base_uri": "https://localhost:8080/"
        },
        "id": "YyWh4Jm_yT2e",
        "outputId": "6922139e-d5ce-4558-ccc6-e80d59acf2e2"
      },
      "execution_count": 96,
      "outputs": [
        {
          "output_type": "stream",
          "name": "stdout",
          "text": [
            "\n",
            "Mean daily sales: 392.85714285714283\n",
            "Median daily sales: 130.0\n",
            "Mode daily sales: 100\n"
          ]
        }
      ]
    },
    {
      "cell_type": "markdown",
      "source": [
        "# **I. Descriptive Statistics**\n",
        "\n",
        "## 1.3 Measures of Dispersion\n",
        "\n",
        "Measures of dispersion describe the spread or variability of a dataset.  Common measures include the range, variance, standard deviation, interquartile range (IQR), and boxplots.\n",
        "\n",
        "* **Range:** The difference between the maximum and minimum values in a dataset.  Simple to calculate but sensitive to outliers.\n",
        "\n",
        "* **Variance:** The average of the squared differences from the mean.  Provides a measure of the overall spread of the data.\n",
        "\n",
        "* **Standard Deviation:** The square root of the variance.  Expressed in the same units as the original data, making it easier to interpret.\n",
        "\n",
        "* **Interquartile Range (IQR):** The range between the first quartile (25th percentile) and the third quartile (75th percentile).  Less sensitive to outliers than the range.\n",
        "\n",
        "* **Boxplots (Box-and-Whisker Plots):** Visual representations of the distribution of a dataset. Show the minimum, first quartile (Q1), median (Q2), third quartile (Q3), and maximum values, as well as potential outliers.\n",
        "\n",
        "\n",
        "**Example:**\n",
        "\n",
        "Let's consider the heights (in centimeters) of 10 students: 160, 162, 165, 168, 170, 172, 175, 178, 180, 185.\n",
        "\n",
        "* **Range:** 185 - 160 = 25 cm\n",
        "* **Variance:**  (Calculations omitted for brevity, but it involves squaring the differences between each height and the mean height, then averaging those squared differences)\n",
        "* **Standard Deviation:** The square root of the variance.\n",
        "* **IQR:** The difference between the 75th percentile (176.5 cm) and the 25th percentile (166.5 cm), resulting in an IQR of 10 cm.\n",
        "\n",
        "\n",
        "**Boxplot Visualization:**\n",
        "\n",
        "A boxplot would visually represent the data, showing the box extending from Q1 (166.5) to Q3 (176.5), with a line inside representing the median (170 cm).  Whiskers would extend to the minimum and maximum values (excluding any potential outliers). Outliers might be plotted as individual points beyond the whiskers.\n",
        "\n"
      ],
      "metadata": {
        "id": "4I4ku4OarqcO"
      }
    },
    {
      "cell_type": "code",
      "source": [
        "import pandas as pd\n",
        "import numpy as np\n",
        "import matplotlib.pyplot as plt"
      ],
      "metadata": {
        "id": "nELyDvaiuriM"
      },
      "execution_count": 97,
      "outputs": []
    },
    {
      "cell_type": "code",
      "source": [
        "# Sample data (heights of students)\n",
        "student_heights = [160, 162, 165, 168, 170, 172, 175, 178, 180, 185, 195] #Added an outlier"
      ],
      "metadata": {
        "id": "3oskr3uJyZc0"
      },
      "execution_count": 98,
      "outputs": []
    },
    {
      "cell_type": "code",
      "source": [
        "# Create a Pandas Series for easier calculations\n",
        "heights_series = pd.Series(student_heights)"
      ],
      "metadata": {
        "id": "S9BFm6dpyeEh"
      },
      "execution_count": 99,
      "outputs": []
    },
    {
      "cell_type": "code",
      "source": [
        "# Calculate measures of dispersion\n",
        "range_heights = heights_series.max() - heights_series.min()\n",
        "variance_heights = heights_series.var()\n",
        "std_dev_heights = heights_series.std()"
      ],
      "metadata": {
        "id": "weoArkHQyhWA"
      },
      "execution_count": 25,
      "outputs": []
    },
    {
      "cell_type": "code",
      "source": [
        "# Calculate quartiles and IQR\n",
        "q1 = heights_series.quantile(0.25)\n",
        "q3 = heights_series.quantile(0.75)\n",
        "iqr = q3 - q1\n",
        "\n",
        "print(f\"Range: {range_heights}\")\n",
        "print(f\"Variance: {variance_heights}\")\n",
        "print(f\"Standard Deviation: {std_dev_heights}\")\n",
        "print(f\"Q1: {q1}\")\n",
        "print(f\"Q3: {q3}\")\n",
        "print(f\"IQR: {iqr}\")"
      ],
      "metadata": {
        "colab": {
          "base_uri": "https://localhost:8080/"
        },
        "id": "rY8R7qJNyjbj",
        "outputId": "83ada56e-3323-40b5-a9d6-39dcce7813cd"
      },
      "execution_count": 26,
      "outputs": [
        {
          "output_type": "stream",
          "name": "stdout",
          "text": [
            "Range: 35\n",
            "Variance: 109.05454545454545\n",
            "Standard Deviation: 10.442918435693418\n",
            "Q1: 166.5\n",
            "Q3: 179.0\n",
            "IQR: 12.5\n"
          ]
        }
      ]
    },
    {
      "cell_type": "code",
      "source": [
        "# Create a boxplot\n",
        "plt.figure(figsize=(8, 6))\n",
        "plt.boxplot(student_heights, vert=False, showmeans=True, meanline=True, patch_artist=True,\n",
        "            boxprops=dict(facecolor='lightblue', color='blue'),\n",
        "            capprops=dict(color='blue'),\n",
        "            whiskerprops=dict(color='blue'),\n",
        "            flierprops=dict(markerfacecolor='red', marker='o'))\n",
        "\n",
        "plt.title('Boxplot of Student Heights')\n",
        "plt.xlabel('Height (cm)')\n",
        "plt.show()\n"
      ],
      "metadata": {
        "colab": {
          "base_uri": "https://localhost:8080/",
          "height": 564
        },
        "id": "tkJWdJzGymcz",
        "outputId": "4cc202cd-568a-42b1-ad58-eb89f9ade902"
      },
      "execution_count": 27,
      "outputs": [
        {
          "output_type": "display_data",
          "data": {
            "text/plain": [
              "<Figure size 800x600 with 1 Axes>"
            ],
            "image/png": "[encoded data removed]"
          },
          "metadata": {}
        }
      ]
    },
    {
      "cell_type": "markdown",
      "source": [
        "# **I. Descriptive Statistics**\n",
        "\n",
        "## 1.4 Measures of Shape\n",
        "\n",
        "Measures of shape describe the symmetry and peakedness of a dataset's distribution. The two primary measures are skewness and kurtosis.\n",
        "\n",
        "* **Skewness:** Measures the asymmetry of the distribution.\n",
        "    * **Positive Skewness (Right Skew):** The tail on the right side of the distribution is longer or fatter than the left side.  The mean is typically greater than the median.\n",
        "    * **Negative Skewness (Left Skew):** The tail on the left side of the distribution is longer or fatter than the right side. The mean is typically less than the median.\n",
        "    * **Zero Skewness:** The distribution is perfectly symmetrical.  The mean, median, and mode are equal.\n",
        "\n",
        "\n",
        "* **Kurtosis:** Measures the \"tailedness\" or peakedness of a distribution.\n",
        "    * **Leptokurtic:**  A distribution with a sharp peak and heavy tails (more extreme values).\n",
        "    * **Mesokurtic:**  A distribution with a normal bell curve shape.\n",
        "    * **Platykurtic:** A distribution with a flat peak and light tails (fewer extreme values).\n",
        "\n",
        "**Example:**\n",
        "\n",
        "Imagine analyzing the income distribution of a population.\n",
        "\n",
        "* **Positive Skew:**  In many populations, income is often positively skewed. Most people earn within a specific range, but a small number of individuals earn extremely high incomes, creating a long right tail.  The mean income will be higher than the median income due to the influence of these high earners.\n",
        "* **Negative Skew:** An example of negative skew might be the scores on an easy test. Most students achieve high marks, but a few score lower, creating a left tail.\n",
        "\n",
        "**Visualization:**\n",
        "\n",
        "Histograms and boxplots can visually illustrate skewness. A positively skewed histogram will have a longer tail to the right, while a negatively skewed histogram will have a longer tail to the left.  A boxplot with a longer whisker on one side indicates skewness in that direction.\n"
      ],
      "metadata": {
        "id": "yOvKKvEer3Pq"
      }
    },
    {
      "cell_type": "code",
      "source": [
        "import pandas as pd\n",
        "import numpy as np\n",
        "import matplotlib.pyplot as plt"
      ],
      "metadata": {
        "id": "IWqTe905vOIq"
      },
      "execution_count": 28,
      "outputs": []
    },
    {
      "cell_type": "code",
      "source": [
        "# Sample data (income distribution - positively skewed)\n",
        "income_data = [25000, 30000, 35000, 40000, 45000, 50000, 60000, 75000, 100000, 200000, 500000]"
      ],
      "metadata": {
        "id": "_32CSQCAyves"
      },
      "execution_count": 29,
      "outputs": []
    },
    {
      "cell_type": "code",
      "source": [
        "# Create a Pandas Series\n",
        "income_series = pd.Series(income_data)"
      ],
      "metadata": {
        "id": "ZuP6b62Byx-X"
      },
      "execution_count": 30,
      "outputs": []
    },
    {
      "cell_type": "code",
      "source": [
        "# Calculate skewness and kurtosis\n",
        "skewness = income_series.skew()\n",
        "kurtosis = income_series.kurt()"
      ],
      "metadata": {
        "id": "ApJH6sxKyzRw"
      },
      "execution_count": 31,
      "outputs": []
    },
    {
      "cell_type": "code",
      "source": [
        "print(f\"Skewness: {skewness}\")\n",
        "print(f\"Kurtosis: {kurtosis}\")"
      ],
      "metadata": {
        "colab": {
          "base_uri": "https://localhost:8080/"
        },
        "id": "Cvd2tB_1y0e_",
        "outputId": "363e0f88-10b3-4dd5-e626-5009cf4b6bed"
      },
      "execution_count": 32,
      "outputs": [
        {
          "output_type": "stream",
          "name": "stdout",
          "text": [
            "Skewness: 2.6846558961188074\n",
            "Kurtosis: 7.5321496951334685\n"
          ]
        }
      ]
    },
    {
      "cell_type": "code",
      "source": [
        "# Create a histogram\n",
        "plt.figure(figsize=(8, 6))\n",
        "plt.hist(income_data, bins=10, edgecolor='black')  # Adjust the number of bins as needed\n",
        "plt.xlabel('Income')\n",
        "plt.ylabel('Frequency')\n",
        "plt.title('Histogram of Income Distribution (Positively Skewed)')\n",
        "plt.show()"
      ],
      "metadata": {
        "colab": {
          "base_uri": "https://localhost:8080/",
          "height": 564
        },
        "id": "YM_kFMgKy2L3",
        "outputId": "4aa2a466-a66a-402f-b812-b8c8c1c6dad7"
      },
      "execution_count": 33,
      "outputs": [
        {
          "output_type": "display_data",
          "data": {
            "text/plain": [
              "<Figure size 800x600 with 1 Axes>"
            ],
            "image/png": "[encoded data removed]"
          },
          "metadata": {}
        }
      ]
    },
    {
      "cell_type": "code",
      "source": [
        "# Create a boxplot\n",
        "plt.figure(figsize=(8, 6))\n",
        "plt.boxplot(income_data, vert=False, showmeans=True, meanline=True, patch_artist=True,\n",
        "            boxprops=dict(facecolor='lightblue', color='blue'),\n",
        "            capprops=dict(color='blue'),\n",
        "            whiskerprops=dict(color='blue'),\n",
        "            flierprops=dict(markerfacecolor='red', marker='o'))\n",
        "plt.title('Boxplot of Income Distribution (Positively Skewed)')\n",
        "plt.xlabel('Income')\n",
        "\n",
        "plt.show()"
      ],
      "metadata": {
        "colab": {
          "base_uri": "https://localhost:8080/",
          "height": 564
        },
        "id": "IBsbnvs5y5yd",
        "outputId": "6de4f4b0-0294-4666-ea19-270fb36324dc"
      },
      "execution_count": 34,
      "outputs": [
        {
          "output_type": "display_data",
          "data": {
            "text/plain": [
              "<Figure size 800x600 with 1 Axes>"
            ],
            "image/png": "[encoded data removed]"
          },
          "metadata": {}
        }
      ]
    },
    {
      "cell_type": "code",
      "source": [
        "# Example of negative skew (test scores)\n",
        "test_scores = [90, 92, 95, 98, 80, 85, 88, 70, 95, 96]\n",
        "test_series = pd.Series(test_scores)\n",
        "\n",
        "skewness_test = test_series.skew()\n",
        "print(f\"\\nSkewness of Test scores: {skewness_test}\")\n",
        "\n",
        "plt.figure(figsize=(8,6))\n",
        "plt.hist(test_scores, bins=5)\n",
        "plt.xlabel('Test Scores')\n",
        "plt.ylabel('Frequency')\n",
        "plt.title('Histogram of Test scores')\n",
        "plt.show()"
      ],
      "metadata": {
        "colab": {
          "base_uri": "https://localhost:8080/",
          "height": 599
        },
        "id": "YzSMvHVZy9Eg",
        "outputId": "78320bc8-d642-4e54-bb3c-c65ccdb2df66"
      },
      "execution_count": 35,
      "outputs": [
        {
          "output_type": "stream",
          "name": "stdout",
          "text": [
            "\n",
            "Skewness of Test scores: -1.2774553962217343\n"
          ]
        },
        {
          "output_type": "display_data",
          "data": {
            "text/plain": [
              "<Figure size 800x600 with 1 Axes>"
            ],
            "image/png": "[encoded data removed]"
          },
          "metadata": {}
        }
      ]
    },
    {
      "cell_type": "markdown",
      "source": [
        "# I. Descriptive Statistics\n",
        "\n",
        "## 1.5 Data Visualization\n",
        "\n",
        "Data visualization is crucial for understanding patterns, trends, and relationships within data.  Various graphical methods provide insights that numerical summaries alone cannot.\n",
        "\n",
        "**Histograms:** Histograms display the distribution of a numerical variable. They show the frequency or relative frequency of data points falling into different bins or intervals.\n",
        "\n",
        "**Example:**\n",
        "Imagine a histogram showing the distribution of student exam scores. A normal distribution would appear as a bell curve, with most scores clustered around the average. A skewed distribution might indicate that many students scored poorly or exceptionally well.\n",
        "\n",
        "**Box Plots:** Boxplots (or box-and-whisker plots) visually represent the distribution of data through five-number summaries: minimum, first quartile (Q1), median (Q2), third quartile (Q3), and maximum. They also highlight outliers.\n",
        "\n",
        "**Example:**\n",
        "Consider comparing the distributions of test scores for two different classes using boxplots.  If the medians differ significantly, we see a difference in average performance. A wide IQR for one class indicates a greater spread or variability of scores within that class. Outliers, if present, would be indicated by individual points beyond the whiskers.\n",
        "\n",
        "**Scatter Plots:** Scatter plots display the relationship between two numerical variables. Each point on the plot represents a data point, with its horizontal and vertical positions determined by the values of the two variables.  The pattern of points suggests the correlation between the variables.\n",
        "\n",
        "**Example:**\n",
        "A scatter plot of advertising expenditure (x-axis) and sales revenue (y-axis) might reveal a positive correlation.  A strong upward trend suggests that as advertising spending increases, sales revenue tends to increase as well.\n",
        "\n",
        "**Exploring relationships between variables:**\n",
        "Scatter plots are particularly helpful in identifying potential correlations and relationships. Positive correlations indicate that as one variable increases, the other tends to increase.  Negative correlations suggest that as one variable increases, the other tends to decrease.  No clear pattern suggests that the variables might be independent."
      ],
      "metadata": {
        "id": "7NkJgRxYsUBx"
      }
    },
    {
      "cell_type": "code",
      "source": [
        "import pandas as pd\n",
        "import numpy as np\n",
        "import matplotlib.pyplot as plt"
      ],
      "metadata": {
        "id": "Mu2i0ZgDvaB3"
      },
      "execution_count": 36,
      "outputs": []
    },
    {
      "cell_type": "code",
      "source": [
        "# Sample data for student heights and weights\n",
        "np.random.seed(42)  # for reproducibility\n",
        "n_students = 100\n",
        "heights = np.random.normal(loc=170, scale=10, size=n_students)\n",
        "weights = np.random.normal(loc=65, scale=8, size=n_students)\n",
        "student_data = pd.DataFrame({'Height': heights, 'Weight': weights})"
      ],
      "metadata": {
        "id": "tI4dz3N8zE-v"
      },
      "execution_count": 37,
      "outputs": []
    },
    {
      "cell_type": "code",
      "source": [
        "# 1.5 Data Visualization Examples"
      ],
      "metadata": {
        "id": "-pcq1JBPzJas"
      },
      "execution_count": 38,
      "outputs": []
    },
    {
      "cell_type": "code",
      "source": [
        "# Histograms: Distribution of heights\n",
        "plt.figure(figsize=(8, 6))\n",
        "plt.hist(student_data['Height'], bins=10, edgecolor='black', alpha=0.7)\n",
        "plt.title('Distribution of Student Heights')\n",
        "plt.xlabel('Height (cm)')\n",
        "plt.ylabel('Frequency')\n",
        "plt.show()"
      ],
      "metadata": {
        "colab": {
          "base_uri": "https://localhost:8080/",
          "height": 564
        },
        "id": "JYp0ipDNzL-B",
        "outputId": "98cc83ee-6f87-4f1a-8b1d-23116f0e69e5"
      },
      "execution_count": 39,
      "outputs": [
        {
          "output_type": "display_data",
          "data": {
            "text/plain": [
              "<Figure size 800x600 with 1 Axes>"
            ],
            "image/png": "[encoded data removed]"
          },
          "metadata": {}
        }
      ]
    },
    {
      "cell_type": "code",
      "source": [
        "# Boxplot: Comparing height distribution\n",
        "plt.figure(figsize=(6, 4))\n",
        "plt.boxplot([student_data['Height'], student_data['Weight']], labels=['Height', 'Weight'], patch_artist=True)\n",
        "plt.title('Comparison of Height and Weight Distributions')\n",
        "plt.ylabel('Values')\n",
        "plt.show()"
      ],
      "metadata": {
        "colab": {
          "base_uri": "https://localhost:8080/",
          "height": 391
        },
        "id": "ks8kCaAGzOvN",
        "outputId": "e8735ddb-a41d-484e-8cb0-23b6e3b9e87b"
      },
      "execution_count": 40,
      "outputs": [
        {
          "output_type": "display_data",
          "data": {
            "text/plain": [
              "<Figure size 600x400 with 1 Axes>"
            ],
            "image/png": "[encoded data removed]"
          },
          "metadata": {}
        }
      ]
    },
    {
      "cell_type": "code",
      "source": [
        "# Scatter plot: Relationship between height and weight\n",
        "plt.figure(figsize=(8, 6))\n",
        "plt.scatter(student_data['Height'], student_data['Weight'], alpha=0.7)\n",
        "plt.title('Relationship between Height and Weight')\n",
        "plt.xlabel('Height (cm)')\n",
        "plt.ylabel('Weight (kg)')\n",
        "plt.grid(True)\n",
        "plt.show()"
      ],
      "metadata": {
        "colab": {
          "base_uri": "https://localhost:8080/",
          "height": 564
        },
        "id": "q9o5BxI4zQf-",
        "outputId": "8d99649f-5c22-4ea3-eca8-b334fd643e47"
      },
      "execution_count": 41,
      "outputs": [
        {
          "output_type": "display_data",
          "data": {
            "text/plain": [
              "<Figure size 800x600 with 1 Axes>"
            ],
            "image/png": "[encoded data removed]"
          },
          "metadata": {}
        }
      ]
    },
    {
      "cell_type": "code",
      "source": [
        "# Adding a trendline (linear regression) to the scatter plot\n",
        "from scipy.stats import linregress\n",
        "\n",
        "slope, intercept, r_value, p_value, std_err = linregress(student_data['Height'], student_data['Weight'])\n",
        "\n",
        "plt.figure(figsize=(8, 6))\n",
        "plt.scatter(student_data['Height'], student_data['Weight'], alpha=0.7)\n",
        "plt.plot(student_data['Height'], intercept + slope * student_data['Height'], 'r', label=f'Trendline (R={r_value:.2f})')\n",
        "\n",
        "plt.title('Relationship between Height and Weight with Trendline')\n",
        "plt.xlabel('Height (cm)')\n",
        "plt.ylabel('Weight (kg)')\n",
        "plt.grid(True)\n",
        "plt.legend()\n",
        "plt.show()"
      ],
      "metadata": {
        "colab": {
          "base_uri": "https://localhost:8080/",
          "height": 564
        },
        "id": "LtBRMA5lzSV6",
        "outputId": "9e995bb1-fcea-4e14-f1c7-ba01c3390fe7"
      },
      "execution_count": 42,
      "outputs": [
        {
          "output_type": "display_data",
          "data": {
            "text/plain": [
              "<Figure size 800x600 with 1 Axes>"
            ],
            "image/png": "[encoded data removed]"
          },
          "metadata": {}
        }
      ]
    },
    {
      "cell_type": "markdown",
      "source": [
        "## II. Probability\n",
        "\n",
        "## 2.1 Introduction to Probability\n",
        "\n",
        "**Basic Concepts:**\n",
        "Probability measures the likelihood of an event occurring.  It is expressed as a number between 0 and 1, where 0 represents impossibility and 1 represents certainty.\n",
        "\n",
        "**Example:**  The probability of flipping a fair coin and getting heads is 0.5 (or 50%), as there are two equally likely outcomes (heads and tails).\n",
        "\n",
        "**Sample Space and Events:**\n",
        "The sample space is the set of all possible outcomes of an experiment.  An event is a subset of the sample space.\n",
        "\n",
        "**Example:**\n",
        "Rolling a six-sided die:  The sample space is {1, 2, 3, 4, 5, 6}. The event \"rolling an even number\" is the subset {2, 4, 6}.\n",
        "\n",
        "\n",
        "**Probability Axioms:**\n",
        "1.  Probability of an event is between 0 and 1.\n",
        "2.  The probability of the sample space is 1.\n",
        "3.  The probability of the union of mutually exclusive events is the sum of their probabilities."
      ],
      "metadata": {
        "id": "aVNgGZIosYjl"
      }
    },
    {
      "cell_type": "code",
      "source": [
        "# Example: Probability of drawing a specific card from a deck\n",
        "\n",
        "import random"
      ],
      "metadata": {
        "id": "vjVDcsjlvm_u"
      },
      "execution_count": 43,
      "outputs": []
    },
    {
      "cell_type": "code",
      "source": [
        "def card_probability(card_rank, card_suit, num_draws=1):\n",
        "  \"\"\"\n",
        "  Calculates the probability of drawing a specific card from a standard deck.\n",
        "\n",
        "  Args:\n",
        "    card_rank: The rank of the card (e.g., \"Ace\", \"2\", \"King\").\n",
        "    card_suit: The suit of the card (e.g., \"Hearts\", \"Diamonds\").\n",
        "    num_draws: Number of draws to simulate\n",
        "\n",
        "  Returns:\n",
        "    The probability of drawing the specific card in a single draw.\n",
        "  \"\"\"\n",
        "\n",
        "  ranks = [\"Ace\", \"2\", \"3\", \"4\", \"5\", \"6\", \"7\", \"8\", \"9\", \"10\", \"Jack\", \"Queen\", \"King\"]\n",
        "  suits = [\"Hearts\", \"Diamonds\", \"Clubs\", \"Spades\"]\n",
        "  deck = [(rank, suit) for rank in ranks for suit in suits]\n",
        "\n",
        "  # Simulate draws\n",
        "  target_card_count = 0\n",
        "  for _ in range(num_draws):\n",
        "    drawn_card = random.choice(deck)\n",
        "    if drawn_card == (card_rank, card_suit):\n",
        "      target_card_count += 1\n",
        "  probability = target_card_count / num_draws\n",
        "\n",
        "  return probability"
      ],
      "metadata": {
        "id": "wdEWcPSZznrp"
      },
      "execution_count": 44,
      "outputs": []
    },
    {
      "cell_type": "code",
      "source": [
        "# Example usage:\n",
        "card_rank = \"Ace\"\n",
        "card_suit = \"Spades\"\n",
        "num_draws = 10000\n",
        "probability = card_probability(card_rank, card_suit, num_draws)\n",
        "\n",
        "print(f\"Probability of drawing the {card_rank} of {card_suit} in {num_draws} draws: {probability}\")\n",
        "\n",
        "# Expected probability is 1/52 for a single draw\n",
        "print(f\"Theoretical probability: 1/52 = {1/52}\")"
      ],
      "metadata": {
        "colab": {
          "base_uri": "https://localhost:8080/"
        },
        "id": "QmfLJRh_zrBH",
        "outputId": "d5af2fac-9f40-4cb8-b343-3d7c635664c5"
      },
      "execution_count": 45,
      "outputs": [
        {
          "output_type": "stream",
          "name": "stdout",
          "text": [
            "Probability of drawing the Ace of Spades in 10000 draws: 0.0206\n",
            "Theoretical probability: 1/52 = 0.019230769230769232\n"
          ]
        }
      ]
    },
    {
      "cell_type": "markdown",
      "source": [
        "## 2.2 Probability Distributions\n",
        "\n",
        "A probability distribution describes the likelihood of all possible values a random variable can take.  They can be discrete or continuous.\n",
        "\n",
        "**Discrete Distributions:**\n",
        "\n",
        "*   **Bernoulli:**  Represents the probability of success or failure in a single trial (e.g., coin flip).\n",
        "*   **Binomial:** Represents the probability of a certain number of successes in a fixed number of independent Bernoulli trials (e.g., number of heads in 10 coin flips).\n",
        "*   **Poisson:** Represents the probability of a given number of events occurring in a fixed interval of time or space (e.g., number of customers arriving at a store per hour).\n",
        "\n",
        "\n",
        "**Continuous Distributions:**\n",
        "\n",
        "*   **Normal:**  A bell-shaped distribution that is frequently encountered in natural phenomena (e.g., heights of people).\n",
        "*   **Exponential:**  Models the time between events in a Poisson process (e.g., time between customer arrivals).\n",
        "\n",
        "\n",
        "**Example:**\n",
        "The height of adult women follows an approximately normal distribution, with most women clustered around the average height, and fewer women at the extreme heights (very tall or very short)."
      ],
      "metadata": {
        "id": "qhtBkG31seiA"
      }
    },
    {
      "cell_type": "code",
      "source": [
        "import random\n",
        "import matplotlib.pyplot as plt"
      ],
      "metadata": {
        "id": "FlSJEColvwkY"
      },
      "execution_count": 46,
      "outputs": []
    },
    {
      "cell_type": "code",
      "source": [
        "def simulate_coin_flips(num_flips):\n",
        "    \"\"\"Simulates multiple coin flips and returns the results.\"\"\"\n",
        "    results = []\n",
        "    for _ in range(num_flips):\n",
        "        results.append(random.choice(['Heads', 'Tails']))\n",
        "    return results"
      ],
      "metadata": {
        "id": "33iq01JBz2fl"
      },
      "execution_count": 47,
      "outputs": []
    },
    {
      "cell_type": "code",
      "source": [
        "def calculate_probabilities(results):\n",
        "    \"\"\"Calculates the probabilities of heads and tails.\"\"\"\n",
        "    heads_count = results.count('Heads')\n",
        "    tails_count = results.count('Tails')\n",
        "    total_flips = len(results)\n",
        "    probability_heads = heads_count / total_flips\n",
        "    probability_tails = tails_count / total_flips\n",
        "    return probability_heads, probability_tails"
      ],
      "metadata": {
        "id": "lrQeAkwMz4Yj"
      },
      "execution_count": 48,
      "outputs": []
    },
    {
      "cell_type": "code",
      "source": [
        "# Example usage\n",
        "num_flips = 10000\n",
        "flip_results = simulate_coin_flips(num_flips)\n",
        "probability_heads, probability_tails = calculate_probabilities(flip_results)"
      ],
      "metadata": {
        "id": "b3Uh_sPgz6Lk"
      },
      "execution_count": 49,
      "outputs": []
    },
    {
      "cell_type": "code",
      "source": [
        "print(f\"Results of {num_flips} coin flips:\")\n",
        "print(f\"Probability of Heads: {probability_heads}\")\n",
        "print(f\"Probability of Tails: {probability_tails}\")"
      ],
      "metadata": {
        "colab": {
          "base_uri": "https://localhost:8080/"
        },
        "id": "Uqd1tmUpz7t-",
        "outputId": "80686a21-5531-43d6-e0bc-7ab13b1a00c9"
      },
      "execution_count": 50,
      "outputs": [
        {
          "output_type": "stream",
          "name": "stdout",
          "text": [
            "Results of 10000 coin flips:\n",
            "Probability of Heads: 0.5024\n",
            "Probability of Tails: 0.4976\n"
          ]
        }
      ]
    },
    {
      "cell_type": "code",
      "source": [
        "# Visualize the results (optional)\n",
        "plt.bar(['Heads', 'Tails'], [probability_heads, probability_tails])\n",
        "plt.title(f\"Simulated Coin Flip Probabilities ({num_flips} flips)\")\n",
        "plt.ylabel(\"Probability\")\n",
        "plt.show()"
      ],
      "metadata": {
        "colab": {
          "base_uri": "https://localhost:8080/",
          "height": 452
        },
        "id": "YxV8wyAcz88E",
        "outputId": "9bf384c5-d0bb-40b0-da1e-b282e1a7bfb0"
      },
      "execution_count": 51,
      "outputs": [
        {
          "output_type": "display_data",
          "data": {
            "text/plain": [
              "<Figure size 640x480 with 1 Axes>"
            ],
            "image/png": "[encoded data removed]"
          },
          "metadata": {}
        }
      ]
    },
    {
      "cell_type": "markdown",
      "source": [
        "## 2.3 Conditional Probability and Bayes' Theorem\n",
        "\n",
        "**Conditional probability** is the probability of an event A given that event B has already occurred, written as P(A|B).\n",
        "\n",
        "**Example:**  The probability of drawing a king from a deck of cards, given that a red card has already been drawn.\n",
        "\n",
        "**Bayes' Theorem** updates the probability of an event based on new evidence.  It relates the conditional probability of an event to its prior probability and the likelihood of the evidence.\n",
        "\n",
        "**Example:** Medical diagnosis. Suppose a patient tests positive for a disease. Bayes' Theorem helps determine the actual probability of the patient having the disease, taking into account the test's accuracy (sensitivity and specificity) and the prevalence of the disease in the population."
      ],
      "metadata": {
        "id": "WZbM4uVjshhk"
      }
    },
    {
      "cell_type": "code",
      "source": [
        "import random"
      ],
      "metadata": {
        "id": "-Y0vjJzDv5Id"
      },
      "execution_count": 52,
      "outputs": []
    },
    {
      "cell_type": "code",
      "source": [
        "def bayes_theorem_example(prior_probability, sensitivity, specificity, test_result):\n",
        "    \"\"\"\n",
        "    Applies Bayes' Theorem to calculate the posterior probability of a disease given a test result.\n",
        "\n",
        "    Args:\n",
        "        prior_probability: The prior probability of having the disease.\n",
        "        sensitivity: The true positive rate (probability of a positive test given the disease).\n",
        "        specificity: The true negative rate (probability of a negative test given no disease).\n",
        "        test_result: The test result (\"positive\" or \"negative\").\n",
        "\n",
        "    Returns:\n",
        "        The posterior probability of having the disease given the test result.\n",
        "    \"\"\"\n",
        "\n",
        "    if test_result == \"positive\":\n",
        "        # Calculate the probability of a positive test given the disease\n",
        "        p_positive_given_disease = sensitivity\n",
        "        # Calculate the probability of a positive test given no disease\n",
        "        p_positive_given_no_disease = 1 - specificity\n",
        "\n",
        "        # Calculate the posterior probability using Bayes' Theorem\n",
        "        posterior_probability = (prior_probability * p_positive_given_disease) / \\\n",
        "                                 (prior_probability * p_positive_given_disease + (1 - prior_probability) * p_positive_given_no_disease)\n",
        "        return posterior_probability\n",
        "    elif test_result == \"negative\":\n",
        "         # Calculate the probability of a negative test given the disease\n",
        "        p_negative_given_disease = 1-sensitivity\n",
        "        # Calculate the probability of a negative test given no disease\n",
        "        p_negative_given_no_disease = specificity\n",
        "\n",
        "        # Calculate the posterior probability using Bayes' Theorem\n",
        "        posterior_probability = (prior_probability * p_negative_given_disease) / \\\n",
        "                                 (prior_probability * p_negative_given_disease + (1 - prior_probability) * p_negative_given_no_disease)\n",
        "\n",
        "        return posterior_probability\n",
        "    else:\n",
        "        return \"Invalid test result\""
      ],
      "metadata": {
        "id": "0YW-_B27z_fH"
      },
      "execution_count": 53,
      "outputs": []
    },
    {
      "cell_type": "code",
      "source": [
        "# Example usage:\n",
        "prior = 0.01  # 1% prevalence of the disease in the population\n",
        "sensitivity = 0.9  # 90% sensitivity of the test\n",
        "specificity = 0.95  # 95% specificity of the test"
      ],
      "metadata": {
        "id": "szNfHGYx0DiJ"
      },
      "execution_count": 54,
      "outputs": []
    },
    {
      "cell_type": "code",
      "source": [
        "# Scenario 1: Patient tests positive\n",
        "positive_result_probability = bayes_theorem_example(prior, sensitivity, specificity, \"positive\")\n",
        "print(f\"Probability of having the disease given a positive test: {positive_result_probability:.4f}\")"
      ],
      "metadata": {
        "colab": {
          "base_uri": "https://localhost:8080/"
        },
        "id": "YX9dMP4N0FFj",
        "outputId": "3f98135a-de2c-44bf-96f7-2268419c8e06"
      },
      "execution_count": 55,
      "outputs": [
        {
          "output_type": "stream",
          "name": "stdout",
          "text": [
            "Probability of having the disease given a positive test: 0.1538\n"
          ]
        }
      ]
    },
    {
      "cell_type": "code",
      "source": [
        "# Scenario 2: Patient tests negative\n",
        "negative_result_probability = bayes_theorem_example(prior, sensitivity, specificity, \"negative\")\n",
        "print(f\"Probability of having the disease given a negative test: {negative_result_probability:.4f}\")"
      ],
      "metadata": {
        "colab": {
          "base_uri": "https://localhost:8080/"
        },
        "id": "TgrlkQRz0G6k",
        "outputId": "871eed78-2f69-48d3-c192-4dc074984627"
      },
      "execution_count": 56,
      "outputs": [
        {
          "output_type": "stream",
          "name": "stdout",
          "text": [
            "Probability of having the disease given a negative test: 0.0011\n"
          ]
        }
      ]
    },
    {
      "cell_type": "markdown",
      "source": [
        "# III. Inferential Statistics\n",
        "\n",
        "## 3.1 Introduction to Inferential Statistics\n",
        "\n",
        "Inferential statistics allows us to make inferences about a population based on data from a sample.  Key concepts include:\n",
        "\n",
        "*   **Population vs. Sample:**  A population is the entire group of interest, while a sample is a subset of the population.  We use sample data to draw conclusions about the population.\n",
        "*   **Sampling Distributions:**  The distribution of a statistic (like the mean) calculated from multiple samples of the same size from a population.  It describes how the statistic varies from sample to sample.\n",
        "*   **Central Limit Theorem (CLT):**  A fundamental theorem in statistics. It states that the sampling distribution of the mean of a large number of independent, identically distributed random variables will approximate a normal distribution, regardless of the shape of the original population distribution.  This is crucial because it allows us to use the normal distribution for hypothesis testing and confidence intervals even when the population distribution is not normal.\n",
        "\n",
        "\n",
        "**Example:**\n",
        "\n",
        "Let's say we want to estimate the average height of all women in a country (population).  It's impossible to measure every woman, so we take a random sample of women and measure their heights.  The sample mean height is calculated, but this is just an estimate of the true population mean.\n",
        "\n",
        "*  **Population:** All women in the country.\n",
        "*  **Sample:** A randomly selected group of women from the country.\n",
        "*  **Sampling Distribution of the Mean:** If we were to take many different samples of the same size, the sample means would not all be the same; they would vary around the true population mean. The distribution of these sample means is the sampling distribution.\n",
        "*  **Central Limit Theorem:** Even if the heights of individual women are not normally distributed, the sampling distribution of the mean heights from many samples will tend towards a normal distribution if the sample size is large enough.  This is crucial for using the normal distribution properties to make inferences about the population mean.\n",
        "\n"
      ],
      "metadata": {
        "id": "CIk7E2R2syuN"
      }
    },
    {
      "cell_type": "code",
      "source": [
        "import random\n",
        "import matplotlib.pyplot as plt\n",
        "import numpy as np"
      ],
      "metadata": {
        "id": "4rLBarKbwHNK"
      },
      "execution_count": 57,
      "outputs": []
    },
    {
      "cell_type": "code",
      "source": [
        "# Sample data (heights of students)\n",
        "population_heights = np.random.normal(loc=170, scale=10, size=10000)  # Large population"
      ],
      "metadata": {
        "id": "V48pXqXq0J9a"
      },
      "execution_count": 58,
      "outputs": []
    },
    {
      "cell_type": "code",
      "source": [
        "def sample_means(population, sample_size, num_samples):\n",
        "    \"\"\"\n",
        "    Generates multiple sample means from a population.\n",
        "\n",
        "    Args:\n",
        "        population: A list or numpy array representing the population data.\n",
        "        sample_size: The size of each sample.\n",
        "        num_samples: The number of samples to generate.\n",
        "\n",
        "    Returns:\n",
        "        A list of sample means.\n",
        "    \"\"\"\n",
        "\n",
        "    sample_means = []\n",
        "    for _ in range(num_samples):\n",
        "        sample = random.sample(population.tolist(), sample_size) # Randomly select samples\n",
        "        sample_means.append(np.mean(sample))\n",
        "    return sample_means"
      ],
      "metadata": {
        "id": "aWAzHVfo0LnN"
      },
      "execution_count": 59,
      "outputs": []
    },
    {
      "cell_type": "code",
      "source": [
        "# Parameters\n",
        "sample_size = 30\n",
        "num_samples = 500  # Increased number of samples for better approximation"
      ],
      "metadata": {
        "id": "KJ_bO39S0UTQ"
      },
      "execution_count": 60,
      "outputs": []
    },
    {
      "cell_type": "code",
      "source": [
        "# Generate sample means\n",
        "sample_mean_heights = sample_means(population_heights, sample_size, num_samples)"
      ],
      "metadata": {
        "id": "IllZA_mI0Yzc"
      },
      "execution_count": 61,
      "outputs": []
    },
    {
      "cell_type": "code",
      "source": [
        "# Visualize the sampling distribution\n",
        "plt.figure(figsize=(8, 6))\n",
        "plt.hist(sample_mean_heights, bins=30, edgecolor='black', alpha=0.7)\n",
        "plt.title('Sampling Distribution of the Mean (Student Heights)')\n",
        "plt.xlabel('Sample Mean Height (cm)')\n",
        "plt.ylabel('Frequency')\n",
        "plt.show()"
      ],
      "metadata": {
        "colab": {
          "base_uri": "https://localhost:8080/",
          "height": 564
        },
        "id": "Ejnqxtwh0aSA",
        "outputId": "13410700-b96f-4edf-e9f5-8a8117f379bc"
      },
      "execution_count": 62,
      "outputs": [
        {
          "output_type": "display_data",
          "data": {
            "text/plain": [
              "<Figure size 800x600 with 1 Axes>"
            ],
            "image/png": "[encoded data removed]"
          },
          "metadata": {}
        }
      ]
    },
    {
      "cell_type": "code",
      "source": [
        "# Demonstrate the Central Limit Theorem by showing that the distribution of sample means\n",
        "# approaches a normal distribution even though the underlying population isn't necessarily normal.\n",
        "print(f\"Mean of sample means: {np.mean(sample_mean_heights)}\")\n",
        "print(f\"Std dev of sample means: {np.std(sample_mean_heights)}\")"
      ],
      "metadata": {
        "colab": {
          "base_uri": "https://localhost:8080/"
        },
        "id": "MyhVFAtD0b2d",
        "outputId": "2480747e-b132-43ff-c6a2-70fe237ddb43"
      },
      "execution_count": 63,
      "outputs": [
        {
          "output_type": "stream",
          "name": "stdout",
          "text": [
            "Mean of sample means: 170.00031916505964\n",
            "Std dev of sample means: 1.876364093114275\n"
          ]
        }
      ]
    },
    {
      "cell_type": "markdown",
      "source": [
        "# III. Inferential Statistics\n",
        "\n",
        "## 3.2 Hypothesis Testing\n",
        "\n",
        "Hypothesis testing is a procedure for evaluating evidence from data to determine whether to reject a null hypothesis.\n",
        "\n",
        "**Null and Alternative Hypotheses:**\n",
        "The null hypothesis ($H_0$) represents a statement of no effect or no difference.  The alternative hypothesis ($H_1$ or $H_a$) represents the statement we are trying to find evidence for.\n",
        "\n",
        "**Example:**  We want to test if a new drug lowers blood pressure.\n",
        "*   $H_0$: The new drug has no effect on blood pressure.\n",
        "*   $H_1$: The new drug lowers blood pressure.\n",
        "\n",
        "**p-values and Significance Levels:**\n",
        "The p-value represents the probability of observing the obtained results (or more extreme results) if the null hypothesis is true.  A significance level (alpha, α) is a threshold for deciding whether to reject the null hypothesis.  If the p-value is less than α (typically 0.05), we reject the null hypothesis in favor of the alternative.\n",
        "\n",
        "**Example:**  If the p-value is 0.03 and α = 0.05, we reject the null hypothesis.  This means there is strong evidence that the new drug lowers blood pressure.\n",
        "\n",
        "**Type I and Type II Errors:**\n",
        "* **Type I Error:** Rejecting the null hypothesis when it is actually true (false positive).\n",
        "* **Type II Error:** Failing to reject the null hypothesis when it is actually false (false negative).\n",
        "\n",
        "\n",
        "**One-sample and Two-sample tests:**\n",
        "*   **One-sample t-test:** Compares the mean of a sample to a known or hypothesized population mean.\n",
        "*   **Two-sample t-test:** Compares the means of two independent samples.\n",
        "*   **Paired t-test:** Compares the means of two dependent samples (e.g., before and after measurements).\n",
        "*   **z-tests:** Similar to t-tests but assume a known population standard deviation.\n",
        "*   **Chi-squared tests:** Used for categorical data to test relationships between variables.\n",
        "\n",
        "**Example (One-sample t-test):**  Testing if the average height of students in a school is different from a national average height.\n"
      ],
      "metadata": {
        "id": "ZHDfuPPgtD8H"
      }
    },
    {
      "cell_type": "code",
      "source": [
        "from scipy import stats"
      ],
      "metadata": {
        "id": "Q4oB_83jwSE5"
      },
      "execution_count": 64,
      "outputs": []
    },
    {
      "cell_type": "code",
      "source": [
        "# Example 1: One-sample t-test\n",
        "# Test if the average height of students is significantly different from 175 cm.\n",
        "t_statistic, p_value = stats.ttest_1samp(student_data['Height'], 175)\n",
        "print(f\"One-sample t-test:\\nT-statistic: {t_statistic:.2f}\\nP-value: {p_value:.3f}\")\n",
        "if p_value < 0.05:\n",
        "    print(\"Reject the null hypothesis: The average height is significantly different from 175 cm.\")\n",
        "else:\n",
        "    print(\"Fail to reject the null hypothesis: No significant difference in average height.\")"
      ],
      "metadata": {
        "colab": {
          "base_uri": "https://localhost:8080/"
        },
        "id": "dTmX3cRT1JSF",
        "outputId": "e0ae1843-0a7a-4597-b532-99116c839103"
      },
      "execution_count": 65,
      "outputs": [
        {
          "output_type": "stream",
          "name": "stdout",
          "text": [
            "One-sample t-test:\n",
            "T-statistic: -6.65\n",
            "P-value: 0.000\n",
            "Reject the null hypothesis: The average height is significantly different from 175 cm.\n"
          ]
        }
      ]
    },
    {
      "cell_type": "code",
      "source": [
        "# Example 2: Two-sample t-test\n",
        "# Split the data into two groups (e.g., male and female, assuming equal variance)\n",
        "# In reality you would need another column in the dataframe to indicate the groups\n",
        "group1 = student_data['Height'][:50]  # First 50 students as group1\n",
        "group2 = student_data['Height'][50:]  # Remaining students as group2\n",
        "\n",
        "t_statistic, p_value = stats.ttest_ind(group1, group2)\n",
        "print(f\"\\nTwo-sample t-test (assuming equal variances):\\nT-statistic: {t_statistic:.2f}\\nP-value: {p_value:.3f}\")"
      ],
      "metadata": {
        "colab": {
          "base_uri": "https://localhost:8080/"
        },
        "id": "g-5F3RHf1LwL",
        "outputId": "132c81cd-8aa2-425c-c55f-dfa0cf24ec07"
      },
      "execution_count": 66,
      "outputs": [
        {
          "output_type": "stream",
          "name": "stdout",
          "text": [
            "\n",
            "Two-sample t-test (assuming equal variances):\n",
            "T-statistic: -1.34\n",
            "P-value: 0.182\n"
          ]
        }
      ]
    },
    {
      "cell_type": "code",
      "source": [
        "# Two sample test (Welch's t-test, does not assume equal variance)\n",
        "t_statistic, p_value = stats.ttest_ind(group1, group2, equal_var=False)\n",
        "print(f\"\\nTwo-sample t-test (Welch's t-test, unequal variances):\\nT-statistic: {t_statistic:.2f}\\nP-value: {p_value:.3f}\")\n",
        "\n",
        "if p_value < 0.05:\n",
        "    print(\"Reject the null hypothesis: There's a significant difference in average heights between the groups.\")\n",
        "else:\n",
        "    print(\"Fail to reject the null hypothesis: No significant difference in average heights.\")"
      ],
      "metadata": {
        "colab": {
          "base_uri": "https://localhost:8080/"
        },
        "id": "r7Lv9A-j1OIK",
        "outputId": "079621e7-dd3b-4741-9ab5-87f62dd46c32"
      },
      "execution_count": 67,
      "outputs": [
        {
          "output_type": "stream",
          "name": "stdout",
          "text": [
            "\n",
            "Two-sample t-test (Welch's t-test, unequal variances):\n",
            "T-statistic: -1.34\n",
            "P-value: 0.182\n",
            "Fail to reject the null hypothesis: No significant difference in average heights.\n"
          ]
        }
      ]
    },
    {
      "cell_type": "code",
      "source": [
        "# Example 3: Paired t-test\n",
        "# Simulate before-and-after measurements for a sample of students\n",
        "before = np.random.normal(loc=60, scale=5, size=20) #before weights\n",
        "after = before + np.random.normal(loc=-2, scale=2, size=20) #after weight (some weight loss)\n",
        "\n",
        "t_statistic, p_value = stats.ttest_rel(before, after)\n",
        "print(f\"\\nPaired t-test:\\nT-statistic: {t_statistic:.2f}\\nP-value: {p_value:.3f}\")\n",
        "\n",
        "if p_value < 0.05:\n",
        "    print(\"Reject the null hypothesis: There's a significant difference in weights (before and after).\")\n",
        "else:\n",
        "    print(\"Fail to reject the null hypothesis: No significant difference in weights.\")"
      ],
      "metadata": {
        "colab": {
          "base_uri": "https://localhost:8080/"
        },
        "id": "jtgwyfaf1QJ9",
        "outputId": "d578a288-ffd1-46ac-a914-825b07d7f436"
      },
      "execution_count": 68,
      "outputs": [
        {
          "output_type": "stream",
          "name": "stdout",
          "text": [
            "\n",
            "Paired t-test:\n",
            "T-statistic: 5.07\n",
            "P-value: 0.000\n",
            "Reject the null hypothesis: There's a significant difference in weights (before and after).\n"
          ]
        }
      ]
    },
    {
      "cell_type": "code",
      "source": [
        "# Example 4: z-test (requires population standard deviation)\n",
        "\n",
        "# Assuming population standard deviation of heights is 12\n",
        "population_std_dev = 12\n",
        "z_statistic, p_value = stats.zscore(student_data['Height'].mean(), ddof=1), stats.norm.sf(abs(stats.zscore(student_data['Height'].mean(), ddof=1)))*2\n",
        "print(f\"\\nz-test:\\nz-statistic: {z_statistic:.2f}\\nP-value: {p_value:.3f}\")\n",
        "\n",
        "if p_value < 0.05:\n",
        "  print(\"Reject null hypothesis\")\n",
        "else:\n",
        "  print(\"Fail to reject null hypothesis\")"
      ],
      "metadata": {
        "colab": {
          "base_uri": "https://localhost:8080/",
          "height": 356
        },
        "id": "zK7FKEf21SOn",
        "outputId": "0af5ce37-e7fe-4ef8-83be-967e954bb62a"
      },
      "execution_count": 69,
      "outputs": [
        {
          "output_type": "error",
          "ename": "AxisError",
          "evalue": "axis 0 is out of bounds for array of dimension 0",
          "traceback": [
            "\u001b[0;31m---------------------------------------------------------------------------\u001b[0m",
            "\u001b[0;31mAxisError\u001b[0m                                 Traceback (most recent call last)",
            "\u001b[0;32m<ipython-input-69-769273d49160>\u001b[0m in \u001b[0;36m<cell line: 5>\u001b[0;34m()\u001b[0m\n\u001b[1;32m      3\u001b[0m \u001b[0;31m# Assuming population standard deviation of heights is 12\u001b[0m\u001b[0;34m\u001b[0m\u001b[0;34m\u001b[0m\u001b[0m\n\u001b[1;32m      4\u001b[0m \u001b[0mpopulation_std_dev\u001b[0m \u001b[0;34m=\u001b[0m \u001b[0;36m12\u001b[0m\u001b[0;34m\u001b[0m\u001b[0;34m\u001b[0m\u001b[0m\n\u001b[0;32m----> 5\u001b[0;31m \u001b[0mz_statistic\u001b[0m\u001b[0;34m,\u001b[0m \u001b[0mp_value\u001b[0m \u001b[0;34m=\u001b[0m \u001b[0mstats\u001b[0m\u001b[0;34m.\u001b[0m\u001b[0mzscore\u001b[0m\u001b[0;34m(\u001b[0m\u001b[0mstudent_data\u001b[0m\u001b[0;34m[\u001b[0m\u001b[0;34m'Height'\u001b[0m\u001b[0;34m]\u001b[0m\u001b[0;34m.\u001b[0m\u001b[0mmean\u001b[0m\u001b[0;34m(\u001b[0m\u001b[0;34m)\u001b[0m\u001b[0;34m,\u001b[0m \u001b[0mddof\u001b[0m\u001b[0;34m=\u001b[0m\u001b[0;36m1\u001b[0m\u001b[0;34m)\u001b[0m\u001b[0;34m,\u001b[0m \u001b[0mstats\u001b[0m\u001b[0;34m.\u001b[0m\u001b[0mnorm\u001b[0m\u001b[0;34m.\u001b[0m\u001b[0msf\u001b[0m\u001b[0;34m(\u001b[0m\u001b[0mabs\u001b[0m\u001b[0;34m(\u001b[0m\u001b[0mstats\u001b[0m\u001b[0;34m.\u001b[0m\u001b[0mzscore\u001b[0m\u001b[0;34m(\u001b[0m\u001b[0mstudent_data\u001b[0m\u001b[0;34m[\u001b[0m\u001b[0;34m'Height'\u001b[0m\u001b[0;34m]\u001b[0m\u001b[0;34m.\u001b[0m\u001b[0mmean\u001b[0m\u001b[0;34m(\u001b[0m\u001b[0;34m)\u001b[0m\u001b[0;34m,\u001b[0m \u001b[0mddof\u001b[0m\u001b[0;34m=\u001b[0m\u001b[0;36m1\u001b[0m\u001b[0;34m)\u001b[0m\u001b[0;34m)\u001b[0m\u001b[0;34m)\u001b[0m\u001b[0;34m*\u001b[0m\u001b[0;36m2\u001b[0m\u001b[0;34m\u001b[0m\u001b[0;34m\u001b[0m\u001b[0m\n\u001b[0m\u001b[1;32m      6\u001b[0m \u001b[0mprint\u001b[0m\u001b[0;34m(\u001b[0m\u001b[0;34mf\"\\nz-test:\\nz-statistic: {z_statistic:.2f}\\nP-value: {p_value:.3f}\"\u001b[0m\u001b[0;34m)\u001b[0m\u001b[0;34m\u001b[0m\u001b[0;34m\u001b[0m\u001b[0m\n\u001b[1;32m      7\u001b[0m \u001b[0;34m\u001b[0m\u001b[0m\n",
            "\u001b[0;32m/usr/local/lib/python3.10/dist-packages/scipy/stats/_stats_py.py\u001b[0m in \u001b[0;36mzscore\u001b[0;34m(a, axis, ddof, nan_policy)\u001b[0m\n\u001b[1;32m   2922\u001b[0m            [-0.91611681, -0.89090508,  1.4983032 ,  0.88731639, -0.5785977 ]])\n\u001b[1;32m   2923\u001b[0m     \"\"\"\n\u001b[0;32m-> 2924\u001b[0;31m     \u001b[0;32mreturn\u001b[0m \u001b[0mzmap\u001b[0m\u001b[0;34m(\u001b[0m\u001b[0ma\u001b[0m\u001b[0;34m,\u001b[0m \u001b[0ma\u001b[0m\u001b[0;34m,\u001b[0m \u001b[0maxis\u001b[0m\u001b[0;34m=\u001b[0m\u001b[0maxis\u001b[0m\u001b[0;34m,\u001b[0m \u001b[0mddof\u001b[0m\u001b[0;34m=\u001b[0m\u001b[0mddof\u001b[0m\u001b[0;34m,\u001b[0m \u001b[0mnan_policy\u001b[0m\u001b[0;34m=\u001b[0m\u001b[0mnan_policy\u001b[0m\u001b[0;34m)\u001b[0m\u001b[0;34m\u001b[0m\u001b[0;34m\u001b[0m\u001b[0m\n\u001b[0m\u001b[1;32m   2925\u001b[0m \u001b[0;34m\u001b[0m\u001b[0m\n\u001b[1;32m   2926\u001b[0m \u001b[0;34m\u001b[0m\u001b[0m\n",
            "\u001b[0;32m/usr/local/lib/python3.10/dist-packages/scipy/stats/_stats_py.py\u001b[0m in \u001b[0;36mzmap\u001b[0;34m(scores, compare, axis, ddof, nan_policy)\u001b[0m\n\u001b[1;32m   3086\u001b[0m             \u001b[0misconst\u001b[0m \u001b[0;34m=\u001b[0m \u001b[0mnp\u001b[0m\u001b[0;34m.\u001b[0m\u001b[0mapply_along_axis\u001b[0m\u001b[0;34m(\u001b[0m\u001b[0m_isconst\u001b[0m\u001b[0;34m,\u001b[0m \u001b[0maxis\u001b[0m\u001b[0;34m,\u001b[0m \u001b[0ma\u001b[0m\u001b[0;34m)\u001b[0m\u001b[0;34m\u001b[0m\u001b[0;34m\u001b[0m\u001b[0m\n\u001b[1;32m   3087\u001b[0m     \u001b[0;32melse\u001b[0m\u001b[0;34m:\u001b[0m\u001b[0;34m\u001b[0m\u001b[0;34m\u001b[0m\u001b[0m\n\u001b[0;32m-> 3088\u001b[0;31m         \u001b[0mmn\u001b[0m \u001b[0;34m=\u001b[0m \u001b[0ma\u001b[0m\u001b[0;34m.\u001b[0m\u001b[0mmean\u001b[0m\u001b[0;34m(\u001b[0m\u001b[0maxis\u001b[0m\u001b[0;34m=\u001b[0m\u001b[0maxis\u001b[0m\u001b[0;34m,\u001b[0m \u001b[0mkeepdims\u001b[0m\u001b[0;34m=\u001b[0m\u001b[0;32mTrue\u001b[0m\u001b[0;34m)\u001b[0m\u001b[0;34m\u001b[0m\u001b[0;34m\u001b[0m\u001b[0m\n\u001b[0m\u001b[1;32m   3089\u001b[0m         \u001b[0mstd\u001b[0m \u001b[0;34m=\u001b[0m \u001b[0ma\u001b[0m\u001b[0;34m.\u001b[0m\u001b[0mstd\u001b[0m\u001b[0;34m(\u001b[0m\u001b[0maxis\u001b[0m\u001b[0;34m=\u001b[0m\u001b[0maxis\u001b[0m\u001b[0;34m,\u001b[0m \u001b[0mddof\u001b[0m\u001b[0;34m=\u001b[0m\u001b[0mddof\u001b[0m\u001b[0;34m,\u001b[0m \u001b[0mkeepdims\u001b[0m\u001b[0;34m=\u001b[0m\u001b[0;32mTrue\u001b[0m\u001b[0;34m)\u001b[0m\u001b[0;34m\u001b[0m\u001b[0;34m\u001b[0m\u001b[0m\n\u001b[1;32m   3090\u001b[0m         \u001b[0;31m# The intent is to check whether all elements of `a` along `axis` are\u001b[0m\u001b[0;34m\u001b[0m\u001b[0;34m\u001b[0m\u001b[0m\n",
            "\u001b[0;32m/usr/local/lib/python3.10/dist-packages/numpy/core/_methods.py\u001b[0m in \u001b[0;36m_mean\u001b[0;34m(a, axis, dtype, out, keepdims, where)\u001b[0m\n\u001b[1;32m    104\u001b[0m     \u001b[0mis_float16_result\u001b[0m \u001b[0;34m=\u001b[0m \u001b[0;32mFalse\u001b[0m\u001b[0;34m\u001b[0m\u001b[0;34m\u001b[0m\u001b[0m\n\u001b[1;32m    105\u001b[0m \u001b[0;34m\u001b[0m\u001b[0m\n\u001b[0;32m--> 106\u001b[0;31m     \u001b[0mrcount\u001b[0m \u001b[0;34m=\u001b[0m \u001b[0m_count_reduce_items\u001b[0m\u001b[0;34m(\u001b[0m\u001b[0marr\u001b[0m\u001b[0;34m,\u001b[0m \u001b[0maxis\u001b[0m\u001b[0;34m,\u001b[0m \u001b[0mkeepdims\u001b[0m\u001b[0;34m=\u001b[0m\u001b[0mkeepdims\u001b[0m\u001b[0;34m,\u001b[0m \u001b[0mwhere\u001b[0m\u001b[0;34m=\u001b[0m\u001b[0mwhere\u001b[0m\u001b[0;34m)\u001b[0m\u001b[0;34m\u001b[0m\u001b[0;34m\u001b[0m\u001b[0m\n\u001b[0m\u001b[1;32m    107\u001b[0m     \u001b[0;32mif\u001b[0m \u001b[0mrcount\u001b[0m \u001b[0;34m==\u001b[0m \u001b[0;36m0\u001b[0m \u001b[0;32mif\u001b[0m \u001b[0mwhere\u001b[0m \u001b[0;32mis\u001b[0m \u001b[0;32mTrue\u001b[0m \u001b[0;32melse\u001b[0m \u001b[0mumr_any\u001b[0m\u001b[0;34m(\u001b[0m\u001b[0mrcount\u001b[0m \u001b[0;34m==\u001b[0m \u001b[0;36m0\u001b[0m\u001b[0;34m,\u001b[0m \u001b[0maxis\u001b[0m\u001b[0;34m=\u001b[0m\u001b[0;32mNone\u001b[0m\u001b[0;34m)\u001b[0m\u001b[0;34m:\u001b[0m\u001b[0;34m\u001b[0m\u001b[0;34m\u001b[0m\u001b[0m\n\u001b[1;32m    108\u001b[0m         \u001b[0mwarnings\u001b[0m\u001b[0;34m.\u001b[0m\u001b[0mwarn\u001b[0m\u001b[0;34m(\u001b[0m\u001b[0;34m\"Mean of empty slice.\"\u001b[0m\u001b[0;34m,\u001b[0m \u001b[0mRuntimeWarning\u001b[0m\u001b[0;34m,\u001b[0m \u001b[0mstacklevel\u001b[0m\u001b[0;34m=\u001b[0m\u001b[0;36m2\u001b[0m\u001b[0;34m)\u001b[0m\u001b[0;34m\u001b[0m\u001b[0;34m\u001b[0m\u001b[0m\n",
            "\u001b[0;32m/usr/local/lib/python3.10/dist-packages/numpy/core/_methods.py\u001b[0m in \u001b[0;36m_count_reduce_items\u001b[0;34m(arr, axis, keepdims, where)\u001b[0m\n\u001b[1;32m     75\u001b[0m         \u001b[0mitems\u001b[0m \u001b[0;34m=\u001b[0m \u001b[0;36m1\u001b[0m\u001b[0;34m\u001b[0m\u001b[0;34m\u001b[0m\u001b[0m\n\u001b[1;32m     76\u001b[0m         \u001b[0;32mfor\u001b[0m \u001b[0max\u001b[0m \u001b[0;32min\u001b[0m \u001b[0maxis\u001b[0m\u001b[0;34m:\u001b[0m\u001b[0;34m\u001b[0m\u001b[0;34m\u001b[0m\u001b[0m\n\u001b[0;32m---> 77\u001b[0;31m             \u001b[0mitems\u001b[0m \u001b[0;34m*=\u001b[0m \u001b[0marr\u001b[0m\u001b[0;34m.\u001b[0m\u001b[0mshape\u001b[0m\u001b[0;34m[\u001b[0m\u001b[0mmu\u001b[0m\u001b[0;34m.\u001b[0m\u001b[0mnormalize_axis_index\u001b[0m\u001b[0;34m(\u001b[0m\u001b[0max\u001b[0m\u001b[0;34m,\u001b[0m \u001b[0marr\u001b[0m\u001b[0;34m.\u001b[0m\u001b[0mndim\u001b[0m\u001b[0;34m)\u001b[0m\u001b[0;34m]\u001b[0m\u001b[0;34m\u001b[0m\u001b[0;34m\u001b[0m\u001b[0m\n\u001b[0m\u001b[1;32m     78\u001b[0m         \u001b[0mitems\u001b[0m \u001b[0;34m=\u001b[0m \u001b[0mnt\u001b[0m\u001b[0;34m.\u001b[0m\u001b[0mintp\u001b[0m\u001b[0;34m(\u001b[0m\u001b[0mitems\u001b[0m\u001b[0;34m)\u001b[0m\u001b[0;34m\u001b[0m\u001b[0;34m\u001b[0m\u001b[0m\n\u001b[1;32m     79\u001b[0m     \u001b[0;32melse\u001b[0m\u001b[0;34m:\u001b[0m\u001b[0;34m\u001b[0m\u001b[0;34m\u001b[0m\u001b[0m\n",
            "\u001b[0;31mAxisError\u001b[0m: axis 0 is out of bounds for array of dimension 0"
          ]
        }
      ]
    },
    {
      "cell_type": "code",
      "source": [
        "# Example 5: Chi-squared test (for categorical data)\n",
        "# Create some categorical data (e.g., eye color and handedness)\n",
        "# Create a contingency table (observed frequencies)\n",
        "# Replace these with your actual data\n",
        "observed = np.array([[20, 10], [15, 25]])\n",
        "\n",
        "chi2, p_value, dof, expected = stats.chi2_contingency(observed)\n",
        "print(f\"\\nChi-squared test:\\nChi2 statistic: {chi2:.2f}\\nP-value: {p_value:.3f}\\nDegrees of Freedom: {dof}\")\n",
        "\n",
        "if p_value < 0.05:\n",
        "    print(\"Reject the null hypothesis: There's a significant association between eye color and handedness.\")\n",
        "else:\n",
        "    print(\"Fail to reject the null hypothesis: No significant association.\")"
      ],
      "metadata": {
        "colab": {
          "base_uri": "https://localhost:8080/"
        },
        "id": "MbchDm_Z1Uls",
        "outputId": "b3986fdd-fcc6-402d-c756-5ecda8d435ee"
      },
      "execution_count": 70,
      "outputs": [
        {
          "output_type": "stream",
          "name": "stdout",
          "text": [
            "\n",
            "Chi-squared test:\n",
            "Chi2 statistic: 4.73\n",
            "P-value: 0.030\n",
            "Degrees of Freedom: 1\n",
            "Reject the null hypothesis: There's a significant association between eye color and handedness.\n"
          ]
        }
      ]
    },
    {
      "cell_type": "markdown",
      "source": [
        "## 3.3 Confidence Intervals\n",
        "\n",
        "A confidence interval is a range of values within which the true population parameter is likely to fall with a certain degree of confidence.\n",
        "\n",
        "**Constructing Confidence Intervals:**\n",
        "Confidence intervals are constructed based on sample statistics, the standard error, and a critical value (obtained from the t-distribution or z-distribution).\n",
        "\n",
        "**Interpretation:**\n",
        "A 95% confidence interval means that if we repeatedly take samples and calculate confidence intervals, 95% of those intervals would contain the true population parameter.\n",
        "\n",
        "**Example:** A 95% confidence interval for the average height of women might be (162 cm, 168 cm). We are 95% confident that the true average height of all women lies between 162 and 168 cm."
      ],
      "metadata": {
        "id": "DZSdy14VtG8g"
      }
    },
    {
      "cell_type": "code",
      "source": [
        "import pandas as pd\n",
        "import numpy as np\n",
        "from scipy import stats\n",
        "import matplotlib.pyplot as plt"
      ],
      "metadata": {
        "id": "ywSEoBT1w-oM"
      },
      "execution_count": 71,
      "outputs": []
    },
    {
      "cell_type": "code",
      "source": [
        "# Sample data (replace with your actual data)\n",
        "np.random.seed(42)  # for reproducibility\n",
        "student_data = pd.DataFrame({'Height': np.random.normal(loc=170, scale=10, size=100)})"
      ],
      "metadata": {
        "id": "qpT5AHXG1ds0"
      },
      "execution_count": 72,
      "outputs": []
    },
    {
      "cell_type": "code",
      "source": [
        "# Calculate the 95% confidence interval for the mean height\n",
        "sample_mean = student_data['Height'].mean()\n",
        "sample_std = student_data['Height'].std()\n",
        "sample_size = len(student_data)"
      ],
      "metadata": {
        "id": "myUBcaBy1fdd"
      },
      "execution_count": 73,
      "outputs": []
    },
    {
      "cell_type": "code",
      "source": [
        "# Using t-distribution since population standard deviation is unknown\n",
        "confidence_level = 0.95\n",
        "degrees_of_freedom = sample_size - 1\n",
        "t_critical = stats.t.ppf((1 + confidence_level) / 2, degrees_of_freedom)\n",
        "margin_of_error = t_critical * (sample_std / np.sqrt(sample_size))\n",
        "\n",
        "confidence_interval = (sample_mean - margin_of_error, sample_mean + margin_of_error)\n",
        "\n",
        "print(f\"Sample Mean Height: {sample_mean:.2f} cm\")\n",
        "print(f\"Sample Standard Deviation: {sample_std:.2f} cm\")\n",
        "print(f\"{int(confidence_level * 100)}% Confidence Interval for Mean Height: ({confidence_interval[0]:.2f} cm, {confidence_interval[1]:.2f} cm)\")"
      ],
      "metadata": {
        "colab": {
          "base_uri": "https://localhost:8080/"
        },
        "id": "qXlCpdjP1n1E",
        "outputId": "35f33bcf-d423-4f26-99c2-59f462f119cc"
      },
      "execution_count": 74,
      "outputs": [
        {
          "output_type": "stream",
          "name": "stdout",
          "text": [
            "Sample Mean Height: 168.96 cm\n",
            "Sample Standard Deviation: 9.08 cm\n",
            "95% Confidence Interval for Mean Height: (167.16 cm, 170.76 cm)\n"
          ]
        }
      ]
    },
    {
      "cell_type": "code",
      "source": [
        "# Visualization\n",
        "plt.figure(figsize=(8, 6))\n",
        "plt.hist(student_data['Height'], bins=15, edgecolor='black', alpha=0.7)\n",
        "plt.axvline(sample_mean, color='red', linestyle='dashed', linewidth=2, label=f'Sample Mean: {sample_mean:.2f}')\n",
        "plt.axvline(confidence_interval[0], color='green', linestyle='dashed', linewidth=2, label=f'Lower Bound: {confidence_interval[0]:.2f}')\n",
        "plt.axvline(confidence_interval[1], color='green', linestyle='dashed', linewidth=2, label=f'Upper Bound: {confidence_interval[1]:.2f}')\n",
        "plt.title('Distribution of Student Heights with 95% Confidence Interval')\n",
        "plt.xlabel('Height (cm)')\n",
        "plt.ylabel('Frequency')\n",
        "plt.legend()\n",
        "plt.show()"
      ],
      "metadata": {
        "colab": {
          "base_uri": "https://localhost:8080/",
          "height": 564
        },
        "id": "vRw7jesg1pmh",
        "outputId": "be44c1f4-99a2-4a5e-fab6-8f43c47c5365"
      },
      "execution_count": 75,
      "outputs": [
        {
          "output_type": "display_data",
          "data": {
            "text/plain": [
              "<Figure size 800x600 with 1 Axes>"
            ],
            "image/png": "[encoded data removed]"
          },
          "metadata": {}
        }
      ]
    },
    {
      "cell_type": "markdown",
      "source": [
        "# IV. Regression Analysis\n",
        "\n",
        "## 4.1 Introduction to Regression Analysis\n",
        "\n",
        "Regression analysis is a statistical method used to model the relationship between a dependent variable and one or more independent variables.  It helps us understand how changes in the independent variables are associated with changes in the dependent variable.\n",
        "\n",
        "**Types of Regression:**\n",
        "\n",
        "*   **Linear Regression:** Models a linear relationship between the dependent and independent variables.\n",
        "*   **Multiple Linear Regression:** Models a linear relationship between the dependent variable and two or more independent variables.\n",
        "*   **Polynomial Regression:** Models a non-linear relationship between the dependent and independent variables using polynomial functions.\n",
        "*   **Logistic Regression:** Used for predicting categorical outcomes (e.g., success or failure).\n",
        "\n",
        "\n",
        "**Example (Simple Linear Regression):**\n",
        "\n",
        "Let's say we want to model the relationship between the number of hours studied (independent variable) and exam scores (dependent variable). We collect data on students' study hours and their corresponding exam scores. Linear regression helps us find the \"best-fit\" line that represents the relationship between these two variables. The equation of this line might look like:\n"
      ],
      "metadata": {
        "id": "xFS27AP_tVz4"
      }
    },
    {
      "cell_type": "code",
      "source": [
        "# Generate sample data for demonstration\n",
        "np.random.seed(0)\n",
        "study_hours = np.random.randint(2, 10, size=20)  # Study hours (independent variable)\n",
        "exam_scores = 60 + 5 * study_hours + np.random.normal(0, 10, size=20)  # Exam scores (dependent variable)"
      ],
      "metadata": {
        "id": "qhNzVQWkxNAa"
      },
      "execution_count": 76,
      "outputs": []
    },
    {
      "cell_type": "code",
      "source": [
        "# Create a DataFrame\n",
        "df = pd.DataFrame({'StudyHours': study_hours, 'ExamScore': exam_scores})"
      ],
      "metadata": {
        "id": "pTK4EnCX1sM5"
      },
      "execution_count": 77,
      "outputs": []
    },
    {
      "cell_type": "code",
      "source": [
        "# Perform linear regression\n",
        "slope, intercept, r_value, p_value, std_err = linregress(df['StudyHours'], df['ExamScore'])"
      ],
      "metadata": {
        "id": "sj8BO6mI1t9t"
      },
      "execution_count": 78,
      "outputs": []
    },
    {
      "cell_type": "code",
      "source": [
        "# Print the regression results\n",
        "print(f\"Slope: {slope:.2f}\")\n",
        "print(f\"Intercept: {intercept:.2f}\")\n",
        "print(f\"R-squared: {r_value**2:.2f}\")  # R-squared represents the goodness of fit\n",
        "print(f\"P-value: {p_value:.3f}\")\n",
        "print(f\"Standard Error: {std_err:.2f}\")"
      ],
      "metadata": {
        "colab": {
          "base_uri": "https://localhost:8080/"
        },
        "id": "TyLXhqEc1vBw",
        "outputId": "5cebe647-c6c9-4e9a-f255-a58442182103"
      },
      "execution_count": 79,
      "outputs": [
        {
          "output_type": "stream",
          "name": "stdout",
          "text": [
            "Slope: 5.21\n",
            "Intercept: 61.85\n",
            "R-squared: 0.53\n",
            "P-value: 0.000\n",
            "Standard Error: 1.15\n"
          ]
        }
      ]
    },
    {
      "cell_type": "code",
      "source": [
        "# Predict exam scores based on the regression line\n",
        "df['PredictedScore'] = intercept + slope * df['StudyHours']"
      ],
      "metadata": {
        "id": "jA62rTWJ1zj3"
      },
      "execution_count": 80,
      "outputs": []
    },
    {
      "cell_type": "code",
      "source": [
        "# Visualize the results\n",
        "plt.scatter(df['StudyHours'], df['ExamScore'], label='Actual Scores')\n",
        "plt.plot(df['StudyHours'], df['PredictedScore'], color='red', label='Regression Line')\n",
        "plt.xlabel('Study Hours')\n",
        "plt.ylabel('Exam Score')\n",
        "plt.title('Linear Regression: Study Hours vs. Exam Scores')\n",
        "plt.legend()\n",
        "plt.grid(True)\n",
        "plt.show()"
      ],
      "metadata": {
        "colab": {
          "base_uri": "https://localhost:8080/",
          "height": 472
        },
        "id": "cyR6qtAY11Rw",
        "outputId": "24812b7b-565a-46fc-bb29-b3b6e97afaae"
      },
      "execution_count": 81,
      "outputs": [
        {
          "output_type": "display_data",
          "data": {
            "text/plain": [
              "<Figure size 640x480 with 1 Axes>"
            ],
            "image/png": "[encoded data removed]"
          },
          "metadata": {}
        }
      ]
    },
    {
      "cell_type": "markdown",
      "source": [
        "# IV. Regression Analysis\n",
        "\n",
        "## 4.2 Model Evaluation Metrics\n",
        "\n",
        "Model evaluation metrics quantify the performance of a regression model. Key metrics include:\n",
        "\n",
        "* **R-squared (R²):** Represents the proportion of variance in the dependent variable explained by the independent variables.  Ranges from 0 to 1, with higher values indicating a better fit.  However, R² can increase even with the addition of irrelevant predictors, so it's important to consider other metrics.\n",
        "\n",
        "* **Adjusted R-squared:**  A modified version of R² that penalizes the addition of unnecessary predictors.  It provides a more realistic measure of model fit, especially when comparing models with different numbers of predictors.\n",
        "\n",
        "* **Mean Squared Error (MSE):**  The average of the squared differences between the predicted and actual values.  Lower MSE values indicate better model performance.  Sensitive to outliers due to the squaring of errors.\n",
        "\n",
        "* **Root Mean Squared Error (RMSE):** The square root of the MSE.  Expressed in the same units as the dependent variable, making it easier to interpret. Still sensitive to outliers.\n",
        "\n",
        "* **Mean Absolute Error (MAE):** The average of the absolute differences between the predicted and actual values. Less sensitive to outliers compared to MSE and RMSE.\n",
        "\n",
        "\n",
        "**Example:**\n",
        "\n",
        "Let's say we have a model that predicts house prices. We compare the predictions to actual house prices in a test dataset.  \n",
        "\n",
        "* **R² = 0.85:** This indicates that 85% of the variance in house prices is explained by the model's predictors (e.g., size, location, number of bedrooms).\n",
        "\n",
        "* **Adjusted R² = 0.82:** After adjusting for the number of predictors, the model's explanatory power is slightly reduced, suggesting some predictors might not be essential.\n",
        "\n",
        "* **MSE = 50000²:** The average squared difference between predicted and actual house prices is 50000².  This is difficult to interpret directly.\n",
        "\n",
        "* **RMSE = 50000:** The average difference between predicted and actual house prices is 50000 (in the same units as house prices), providing a more intuitive understanding of the error.\n",
        "\n",
        "* **MAE = 30000:** On average, the model's predictions are off by 30000 (in the same units as house prices). This metric is less influenced by the large errors and gives a more robust measure.\n",
        "\n",
        "**Choosing the Right Metric:**\n",
        "\n",
        "The best metric depends on the specific problem and the relative importance of different types of errors.  For instance, if large errors are particularly costly (e.g., in financial forecasting), MAE or RMSE might be preferred over R².  R² is more useful for assessing the overall explanatory power of the model."
      ],
      "metadata": {
        "id": "HW09gCO5tfex"
      }
    },
    {
      "cell_type": "code",
      "execution_count": 82,
      "metadata": {
        "id": "BGOCvgXWBoIN"
      },
      "outputs": [],
      "source": [
        "import numpy as np\n",
        "import pandas as pd\n",
        "from sklearn.linear_model import LinearRegression\n",
        "from sklearn.metrics import mean_squared_error, mean_absolute_error, r2_score"
      ]
    },
    {
      "cell_type": "code",
      "source": [
        "# Generate sample data\n",
        "np.random.seed(0)\n",
        "X = np.random.rand(100, 1) * 10  # Independent variable (e.g., advertising spend)\n",
        "y = 2 * X + 1 + np.random.randn(100, 1)  # Dependent variable (e.g., sales)"
      ],
      "metadata": {
        "id": "kkE0igrG17zG"
      },
      "execution_count": 83,
      "outputs": []
    },
    {
      "cell_type": "code",
      "source": [
        "# Split data into training and testing sets\n",
        "train_size = int(0.8 * len(X))\n",
        "X_train, X_test = X[:train_size], X[train_size:]\n",
        "y_train, y_test = y[:train_size], y[train_size:]"
      ],
      "metadata": {
        "id": "lCi6Yq6x19qZ"
      },
      "execution_count": 84,
      "outputs": []
    },
    {
      "cell_type": "code",
      "source": [
        "# Create and train the linear regression model\n",
        "model = LinearRegression()\n",
        "model.fit(X_train, y_train)"
      ],
      "metadata": {
        "colab": {
          "base_uri": "https://localhost:8080/",
          "height": 80
        },
        "id": "3KDh5YY31_Aj",
        "outputId": "2e9ecd32-9f06-42fb-98f5-04bbba12f59e"
      },
      "execution_count": 85,
      "outputs": [
        {
          "output_type": "execute_result",
          "data": {
            "text/plain": [
              "LinearRegression()"
            ],
            "text/html": [
              "<style>#sk-container-id-1 {\n",
              "  /* Definition of color scheme common for light and dark mode */\n",
              "  --sklearn-color-text: #000;\n",
              "  --sklearn-color-text-muted: #666;\n",
              "  --sklearn-color-line: gray;\n",
              "  /* Definition of color scheme for unfitted estimators */\n",
              "  --sklearn-color-unfitted-level-0: #fff5e6;\n",
              "  --sklearn-color-unfitted-level-1: #f6e4d2;\n",
              "  --sklearn-color-unfitted-level-2: #ffe0b3;\n",
              "  --sklearn-color-unfitted-level-3: chocolate;\n",
              "  /* Definition of color scheme for fitted estimators */\n",
              "  --sklearn-color-fitted-level-0: #f0f8ff;\n",
              "  --sklearn-color-fitted-level-1: #d4ebff;\n",
              "  --sklearn-color-fitted-level-2: #b3dbfd;\n",
              "  --sklearn-color-fitted-level-3: cornflowerblue;\n",
              "\n",
              "  /* Specific color for light theme */\n",
              "  --sklearn-color-text-on-default-background: var(--sg-text-color, var(--theme-code-foreground, var(--jp-content-font-color1, black)));\n",
              "  --sklearn-color-background: var(--sg-background-color, var(--theme-background, var(--jp-layout-color0, white)));\n",
              "  --sklearn-color-border-box: var(--sg-text-color, var(--theme-code-foreground, var(--jp-content-font-color1, black)));\n",
              "  --sklearn-color-icon: #696969;\n",
              "\n",
              "  @media (prefers-color-scheme: dark) {\n",
              "    /* Redefinition of color scheme for dark theme */\n",
              "    --sklearn-color-text-on-default-background: var(--sg-text-color, var(--theme-code-foreground, var(--jp-content-font-color1, white)));\n",
              "    --sklearn-color-background: var(--sg-background-color, var(--theme-background, var(--jp-layout-color0, #111)));\n",
              "    --sklearn-color-border-box: var(--sg-text-color, var(--theme-code-foreground, var(--jp-content-font-color1, white)));\n",
              "    --sklearn-color-icon: #878787;\n",
              "  }\n",
              "}\n",
              "\n",
              "#sk-container-id-1 {\n",
              "  color: var(--sklearn-color-text);\n",
              "}\n",
              "\n",
              "#sk-container-id-1 pre {\n",
              "  padding: 0;\n",
              "}\n",
              "\n",
              "#sk-container-id-1 input.sk-hidden--visually {\n",
              "  border: 0;\n",
              "  clip: rect(1px 1px 1px 1px);\n",
              "  clip: rect(1px, 1px, 1px, 1px);\n",
              "  height: 1px;\n",
              "  margin: -1px;\n",
              "  overflow: hidden;\n",
              "  padding: 0;\n",
              "  position: absolute;\n",
              "  width: 1px;\n",
              "}\n",
              "\n",
              "#sk-container-id-1 div.sk-dashed-wrapped {\n",
              "  border: 1px dashed var(--sklearn-color-line);\n",
              "  margin: 0 0.4em 0.5em 0.4em;\n",
              "  box-sizing: border-box;\n",
              "  padding-bottom: 0.4em;\n",
              "  background-color: var(--sklearn-color-background);\n",
              "}\n",
              "\n",
              "#sk-container-id-1 div.sk-container {\n",
              "  /* jupyter's `normalize.less` sets `[hidden] { display: none; }`\n",
              "     but bootstrap.min.css set `[hidden] { display: none !important; }`\n",
              "     so we also need the `!important` here to be able to override the\n",
              "     default hidden behavior on the sphinx rendered scikit-learn.org.\n",
              "     See: https://github.com/scikit-learn/scikit-learn/issues/21755 */\n",
              "  display: inline-block !important;\n",
              "  position: relative;\n",
              "}\n",
              "\n",
              "#sk-container-id-1 div.sk-text-repr-fallback {\n",
              "  display: none;\n",
              "}\n",
              "\n",
              "div.sk-parallel-item,\n",
              "div.sk-serial,\n",
              "div.sk-item {\n",
              "  /* draw centered vertical line to link estimators */\n",
              "  background-image: linear-gradient(var(--sklearn-color-text-on-default-background), var(--sklearn-color-text-on-default-background));\n",
              "  background-size: 2px 100%;\n",
              "  background-repeat: no-repeat;\n",
              "  background-position: center center;\n",
              "}\n",
              "\n",
              "/* Parallel-specific style estimator block */\n",
              "\n",
              "#sk-container-id-1 div.sk-parallel-item::after {\n",
              "  content: \"\";\n",
              "  width: 100%;\n",
              "  border-bottom: 2px solid var(--sklearn-color-text-on-default-background);\n",
              "  flex-grow: 1;\n",
              "}\n",
              "\n",
              "#sk-container-id-1 div.sk-parallel {\n",
              "  display: flex;\n",
              "  align-items: stretch;\n",
              "  justify-content: center;\n",
              "  background-color: var(--sklearn-color-background);\n",
              "  position: relative;\n",
              "}\n",
              "\n",
              "#sk-container-id-1 div.sk-parallel-item {\n",
              "  display: flex;\n",
              "  flex-direction: column;\n",
              "}\n",
              "\n",
              "#sk-container-id-1 div.sk-parallel-item:first-child::after {\n",
              "  align-self: flex-end;\n",
              "  width: 50%;\n",
              "}\n",
              "\n",
              "#sk-container-id-1 div.sk-parallel-item:last-child::after {\n",
              "  align-self: flex-start;\n",
              "  width: 50%;\n",
              "}\n",
              "\n",
              "#sk-container-id-1 div.sk-parallel-item:only-child::after {\n",
              "  width: 0;\n",
              "}\n",
              "\n",
              "/* Serial-specific style estimator block */\n",
              "\n",
              "#sk-container-id-1 div.sk-serial {\n",
              "  display: flex;\n",
              "  flex-direction: column;\n",
              "  align-items: center;\n",
              "  background-color: var(--sklearn-color-background);\n",
              "  padding-right: 1em;\n",
              "  padding-left: 1em;\n",
              "}\n",
              "\n",
              "\n",
              "/* Toggleable style: style used for estimator/Pipeline/ColumnTransformer box that is\n",
              "clickable and can be expanded/collapsed.\n",
              "- Pipeline and ColumnTransformer use this feature and define the default style\n",
              "- Estimators will overwrite some part of the style using the `sk-estimator` class\n",
              "*/\n",
              "\n",
              "/* Pipeline and ColumnTransformer style (default) */\n",
              "\n",
              "#sk-container-id-1 div.sk-toggleable {\n",
              "  /* Default theme specific background. It is overwritten whether we have a\n",
              "  specific estimator or a Pipeline/ColumnTransformer */\n",
              "  background-color: var(--sklearn-color-background);\n",
              "}\n",
              "\n",
              "/* Toggleable label */\n",
              "#sk-container-id-1 label.sk-toggleable__label {\n",
              "  cursor: pointer;\n",
              "  display: flex;\n",
              "  width: 100%;\n",
              "  margin-bottom: 0;\n",
              "  padding: 0.5em;\n",
              "  box-sizing: border-box;\n",
              "  text-align: center;\n",
              "  align-items: start;\n",
              "  justify-content: space-between;\n",
              "  gap: 0.5em;\n",
              "}\n",
              "\n",
              "#sk-container-id-1 label.sk-toggleable__label .caption {\n",
              "  font-size: 0.6rem;\n",
              "  font-weight: lighter;\n",
              "  color: var(--sklearn-color-text-muted);\n",
              "}\n",
              "\n",
              "#sk-container-id-1 label.sk-toggleable__label-arrow:before {\n",
              "  /* Arrow on the left of the label */\n",
              "  content: \"▸\";\n",
              "  float: left;\n",
              "  margin-right: 0.25em;\n",
              "  color: var(--sklearn-color-icon);\n",
              "}\n",
              "\n",
              "#sk-container-id-1 label.sk-toggleable__label-arrow:hover:before {\n",
              "  color: var(--sklearn-color-text);\n",
              "}\n",
              "\n",
              "/* Toggleable content - dropdown */\n",
              "\n",
              "#sk-container-id-1 div.sk-toggleable__content {\n",
              "  max-height: 0;\n",
              "  max-width: 0;\n",
              "  overflow: hidden;\n",
              "  text-align: left;\n",
              "  /* unfitted */\n",
              "  background-color: var(--sklearn-color-unfitted-level-0);\n",
              "}\n",
              "\n",
              "#sk-container-id-1 div.sk-toggleable__content.fitted {\n",
              "  /* fitted */\n",
              "  background-color: var(--sklearn-color-fitted-level-0);\n",
              "}\n",
              "\n",
              "#sk-container-id-1 div.sk-toggleable__content pre {\n",
              "  margin: 0.2em;\n",
              "  border-radius: 0.25em;\n",
              "  color: var(--sklearn-color-text);\n",
              "  /* unfitted */\n",
              "  background-color: var(--sklearn-color-unfitted-level-0);\n",
              "}\n",
              "\n",
              "#sk-container-id-1 div.sk-toggleable__content.fitted pre {\n",
              "  /* unfitted */\n",
              "  background-color: var(--sklearn-color-fitted-level-0);\n",
              "}\n",
              "\n",
              "#sk-container-id-1 input.sk-toggleable__control:checked~div.sk-toggleable__content {\n",
              "  /* Expand drop-down */\n",
              "  max-height: 200px;\n",
              "  max-width: 100%;\n",
              "  overflow: auto;\n",
              "}\n",
              "\n",
              "#sk-container-id-1 input.sk-toggleable__control:checked~label.sk-toggleable__label-arrow:before {\n",
              "  content: \"▾\";\n",
              "}\n",
              "\n",
              "/* Pipeline/ColumnTransformer-specific style */\n",
              "\n",
              "#sk-container-id-1 div.sk-label input.sk-toggleable__control:checked~label.sk-toggleable__label {\n",
              "  color: var(--sklearn-color-text);\n",
              "  background-color: var(--sklearn-color-unfitted-level-2);\n",
              "}\n",
              "\n",
              "#sk-container-id-1 div.sk-label.fitted input.sk-toggleable__control:checked~label.sk-toggleable__label {\n",
              "  background-color: var(--sklearn-color-fitted-level-2);\n",
              "}\n",
              "\n",
              "/* Estimator-specific style */\n",
              "\n",
              "/* Colorize estimator box */\n",
              "#sk-container-id-1 div.sk-estimator input.sk-toggleable__control:checked~label.sk-toggleable__label {\n",
              "  /* unfitted */\n",
              "  background-color: var(--sklearn-color-unfitted-level-2);\n",
              "}\n",
              "\n",
              "#sk-container-id-1 div.sk-estimator.fitted input.sk-toggleable__control:checked~label.sk-toggleable__label {\n",
              "  /* fitted */\n",
              "  background-color: var(--sklearn-color-fitted-level-2);\n",
              "}\n",
              "\n",
              "#sk-container-id-1 div.sk-label label.sk-toggleable__label,\n",
              "#sk-container-id-1 div.sk-label label {\n",
              "  /* The background is the default theme color */\n",
              "  color: var(--sklearn-color-text-on-default-background);\n",
              "}\n",
              "\n",
              "/* On hover, darken the color of the background */\n",
              "#sk-container-id-1 div.sk-label:hover label.sk-toggleable__label {\n",
              "  color: var(--sklearn-color-text);\n",
              "  background-color: var(--sklearn-color-unfitted-level-2);\n",
              "}\n",
              "\n",
              "/* Label box, darken color on hover, fitted */\n",
              "#sk-container-id-1 div.sk-label.fitted:hover label.sk-toggleable__label.fitted {\n",
              "  color: var(--sklearn-color-text);\n",
              "  background-color: var(--sklearn-color-fitted-level-2);\n",
              "}\n",
              "\n",
              "/* Estimator label */\n",
              "\n",
              "#sk-container-id-1 div.sk-label label {\n",
              "  font-family: monospace;\n",
              "  font-weight: bold;\n",
              "  display: inline-block;\n",
              "  line-height: 1.2em;\n",
              "}\n",
              "\n",
              "#sk-container-id-1 div.sk-label-container {\n",
              "  text-align: center;\n",
              "}\n",
              "\n",
              "/* Estimator-specific */\n",
              "#sk-container-id-1 div.sk-estimator {\n",
              "  font-family: monospace;\n",
              "  border: 1px dotted var(--sklearn-color-border-box);\n",
              "  border-radius: 0.25em;\n",
              "  box-sizing: border-box;\n",
              "  margin-bottom: 0.5em;\n",
              "  /* unfitted */\n",
              "  background-color: var(--sklearn-color-unfitted-level-0);\n",
              "}\n",
              "\n",
              "#sk-container-id-1 div.sk-estimator.fitted {\n",
              "  /* fitted */\n",
              "  background-color: var(--sklearn-color-fitted-level-0);\n",
              "}\n",
              "\n",
              "/* on hover */\n",
              "#sk-container-id-1 div.sk-estimator:hover {\n",
              "  /* unfitted */\n",
              "  background-color: var(--sklearn-color-unfitted-level-2);\n",
              "}\n",
              "\n",
              "#sk-container-id-1 div.sk-estimator.fitted:hover {\n",
              "  /* fitted */\n",
              "  background-color: var(--sklearn-color-fitted-level-2);\n",
              "}\n",
              "\n",
              "/* Specification for estimator info (e.g. \"i\" and \"?\") */\n",
              "\n",
              "/* Common style for \"i\" and \"?\" */\n",
              "\n",
              ".sk-estimator-doc-link,\n",
              "a:link.sk-estimator-doc-link,\n",
              "a:visited.sk-estimator-doc-link {\n",
              "  float: right;\n",
              "  font-size: smaller;\n",
              "  line-height: 1em;\n",
              "  font-family: monospace;\n",
              "  background-color: var(--sklearn-color-background);\n",
              "  border-radius: 1em;\n",
              "  height: 1em;\n",
              "  width: 1em;\n",
              "  text-decoration: none !important;\n",
              "  margin-left: 0.5em;\n",
              "  text-align: center;\n",
              "  /* unfitted */\n",
              "  border: var(--sklearn-color-unfitted-level-1) 1pt solid;\n",
              "  color: var(--sklearn-color-unfitted-level-1);\n",
              "}\n",
              "\n",
              ".sk-estimator-doc-link.fitted,\n",
              "a:link.sk-estimator-doc-link.fitted,\n",
              "a:visited.sk-estimator-doc-link.fitted {\n",
              "  /* fitted */\n",
              "  border: var(--sklearn-color-fitted-level-1) 1pt solid;\n",
              "  color: var(--sklearn-color-fitted-level-1);\n",
              "}\n",
              "\n",
              "/* On hover */\n",
              "div.sk-estimator:hover .sk-estimator-doc-link:hover,\n",
              ".sk-estimator-doc-link:hover,\n",
              "div.sk-label-container:hover .sk-estimator-doc-link:hover,\n",
              ".sk-estimator-doc-link:hover {\n",
              "  /* unfitted */\n",
              "  background-color: var(--sklearn-color-unfitted-level-3);\n",
              "  color: var(--sklearn-color-background);\n",
              "  text-decoration: none;\n",
              "}\n",
              "\n",
              "div.sk-estimator.fitted:hover .sk-estimator-doc-link.fitted:hover,\n",
              ".sk-estimator-doc-link.fitted:hover,\n",
              "div.sk-label-container:hover .sk-estimator-doc-link.fitted:hover,\n",
              ".sk-estimator-doc-link.fitted:hover {\n",
              "  /* fitted */\n",
              "  background-color: var(--sklearn-color-fitted-level-3);\n",
              "  color: var(--sklearn-color-background);\n",
              "  text-decoration: none;\n",
              "}\n",
              "\n",
              "/* Span, style for the box shown on hovering the info icon */\n",
              ".sk-estimator-doc-link span {\n",
              "  display: none;\n",
              "  z-index: 9999;\n",
              "  position: relative;\n",
              "  font-weight: normal;\n",
              "  right: .2ex;\n",
              "  padding: .5ex;\n",
              "  margin: .5ex;\n",
              "  width: min-content;\n",
              "  min-width: 20ex;\n",
              "  max-width: 50ex;\n",
              "  color: var(--sklearn-color-text);\n",
              "  box-shadow: 2pt 2pt 4pt #999;\n",
              "  /* unfitted */\n",
              "  background: var(--sklearn-color-unfitted-level-0);\n",
              "  border: .5pt solid var(--sklearn-color-unfitted-level-3);\n",
              "}\n",
              "\n",
              ".sk-estimator-doc-link.fitted span {\n",
              "  /* fitted */\n",
              "  background: var(--sklearn-color-fitted-level-0);\n",
              "  border: var(--sklearn-color-fitted-level-3);\n",
              "}\n",
              "\n",
              ".sk-estimator-doc-link:hover span {\n",
              "  display: block;\n",
              "}\n",
              "\n",
              "/* \"?\"-specific style due to the `<a>` HTML tag */\n",
              "\n",
              "#sk-container-id-1 a.estimator_doc_link {\n",
              "  float: right;\n",
              "  font-size: 1rem;\n",
              "  line-height: 1em;\n",
              "  font-family: monospace;\n",
              "  background-color: var(--sklearn-color-background);\n",
              "  border-radius: 1rem;\n",
              "  height: 1rem;\n",
              "  width: 1rem;\n",
              "  text-decoration: none;\n",
              "  /* unfitted */\n",
              "  color: var(--sklearn-color-unfitted-level-1);\n",
              "  border: var(--sklearn-color-unfitted-level-1) 1pt solid;\n",
              "}\n",
              "\n",
              "#sk-container-id-1 a.estimator_doc_link.fitted {\n",
              "  /* fitted */\n",
              "  border: var(--sklearn-color-fitted-level-1) 1pt solid;\n",
              "  color: var(--sklearn-color-fitted-level-1);\n",
              "}\n",
              "\n",
              "/* On hover */\n",
              "#sk-container-id-1 a.estimator_doc_link:hover {\n",
              "  /* unfitted */\n",
              "  background-color: var(--sklearn-color-unfitted-level-3);\n",
              "  color: var(--sklearn-color-background);\n",
              "  text-decoration: none;\n",
              "}\n",
              "\n",
              "#sk-container-id-1 a.estimator_doc_link.fitted:hover {\n",
              "  /* fitted */\n",
              "  background-color: var(--sklearn-color-fitted-level-3);\n",
              "}\n",
              "</style><div id=\"sk-container-id-1\" class=\"sk-top-container\"><div class=\"sk-text-repr-fallback\"><pre>LinearRegression()</pre><b>In a Jupyter environment, please rerun this cell to show the HTML representation or trust the notebook. <br />On GitHub, the HTML representation is unable to render, please try loading this page with nbviewer.org.</b></div><div class=\"sk-container\" hidden><div class=\"sk-item\"><div class=\"sk-estimator fitted sk-toggleable\"><input class=\"sk-toggleable__control sk-hidden--visually\" id=\"sk-estimator-id-1\" type=\"checkbox\" checked><label for=\"sk-estimator-id-1\" class=\"sk-toggleable__label fitted sk-toggleable__label-arrow\"><div><div>LinearRegression</div></div><div><a class=\"sk-estimator-doc-link fitted\" rel=\"noreferrer\" target=\"_blank\" href=\"https://scikit-learn.org/1.6/modules/generated/sklearn.linear_model.LinearRegression.html\">?<span>Documentation for LinearRegression</span></a><span class=\"sk-estimator-doc-link fitted\">i<span>Fitted</span></span></div></label><div class=\"sk-toggleable__content fitted\"><pre>LinearRegression()</pre></div> </div></div></div></div>"
            ]
          },
          "metadata": {},
          "execution_count": 85
        }
      ]
    },
    {
      "cell_type": "code",
      "source": [
        "# Make predictions on the test set\n",
        "y_pred = model.predict(X_test)"
      ],
      "metadata": {
        "id": "VdHEnVBB2AN1"
      },
      "execution_count": 86,
      "outputs": []
    },
    {
      "cell_type": "code",
      "source": [
        "# Calculate evaluation metrics\n",
        "mse = mean_squared_error(y_test, y_pred)\n",
        "rmse = np.sqrt(mse)\n",
        "mae = mean_absolute_error(y_test, y_pred)\n",
        "r2 = r2_score(y_test, y_pred)"
      ],
      "metadata": {
        "id": "nhslnyTn2FQJ"
      },
      "execution_count": 87,
      "outputs": []
    },
    {
      "cell_type": "code",
      "source": [
        "# Print the metrics\n",
        "print(f\"Mean Squared Error (MSE): {mse:.2f}\")\n",
        "print(f\"Root Mean Squared Error (RMSE): {rmse:.2f}\")\n",
        "print(f\"Mean Absolute Error (MAE): {mae:.2f}\")\n",
        "print(f\"R-squared (R2): {r2:.2f}\")"
      ],
      "metadata": {
        "colab": {
          "base_uri": "https://localhost:8080/"
        },
        "id": "Q5ZZzALd2Gj0",
        "outputId": "a0715744-271e-43e4-ba57-c0fb3b1ec789"
      },
      "execution_count": 88,
      "outputs": [
        {
          "output_type": "stream",
          "name": "stdout",
          "text": [
            "Mean Squared Error (MSE): 0.90\n",
            "Root Mean Squared Error (RMSE): 0.95\n",
            "Mean Absolute Error (MAE): 0.81\n",
            "R-squared (R2): 0.97\n"
          ]
        }
      ]
    },
    {
      "cell_type": "code",
      "source": [
        "# Create a DataFrame for easier viewing\n",
        "results_df = pd.DataFrame({\n",
        "    'Actual': y_test.flatten(),\n",
        "    'Predicted': y_pred.flatten()\n",
        "})\n",
        "print(\"\\nFirst 10 Predictions:\")\n",
        "print(results_df.head(10))"
      ],
      "metadata": {
        "colab": {
          "base_uri": "https://localhost:8080/"
        },
        "id": "GuAoKbRw2H6M",
        "outputId": "033e8141-a103-42b6-c3fc-0084222db1ab"
      },
      "execution_count": 89,
      "outputs": [
        {
          "output_type": "stream",
          "name": "stdout",
          "text": [
            "\n",
            "First 10 Predictions:\n",
            "      Actual  Predicted\n",
            "0   6.861631   7.608763\n",
            "1  11.214792   9.527986\n",
            "2   3.232371   2.548853\n",
            "3  14.936994  15.073751\n",
            "4  11.106594  12.564670\n",
            "5   7.152153   6.560371\n",
            "6  10.464746  11.700472\n",
            "7   1.334039   3.142741\n",
            "8  13.706960  12.750953\n",
            "9  19.902867  19.794555\n"
          ]
        }
      ]
    },
    {
      "cell_type": "code",
      "source": [],
      "metadata": {
        "id": "f2GInHWW2Ix9"
      },
      "execution_count": null,
      "outputs": []
    }
  ]
}